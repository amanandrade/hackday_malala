{
  "nbformat": 4,
  "nbformat_minor": 0,
  "metadata": {
    "colab": {
      "name": "Desafio Hack Day Marketing Funnel by Olist.ipynb",
      "provenance": []
    },
    "kernelspec": {
      "name": "python3",
      "display_name": "Python 3"
    }
  },
  "cells": [
    {
      "cell_type": "code",
      "metadata": {
        "id": "ezSiv2F6WOkN",
        "colab_type": "code",
        "colab": {}
      },
      "source": [
        "import pandas as pd\n",
        "cd = pd.read_csv('https://raw.githubusercontent.com/mariacmartins/hackday_malala/master/olist_closed_deals_dataset.csv')\n",
        "mql = pd.read_csv('https://raw.githubusercontent.com/mariacmartins/hackday_malala/master/olist_marketing_qualified_leads_dataset.csv')"
      ],
      "execution_count": 0,
      "outputs": []
    },
    {
      "cell_type": "code",
      "metadata": {
        "id": "g3aGSPUbYkiY",
        "colab_type": "code",
        "colab": {}
      },
      "source": [
        "import seaborn as sns\n",
        "import matplotlib.pyplot as plt\n",
        "import pandas as pd\n",
        "import re\n",
        "%matplotlib inline"
      ],
      "execution_count": 0,
      "outputs": []
    },
    {
      "cell_type": "code",
      "metadata": {
        "id": "rQLEp6OgWrsW",
        "colab_type": "code",
        "outputId": "13b6511e-1a64-4baa-862d-a41f776066f1",
        "colab": {
          "base_uri": "https://localhost:8080/",
          "height": 199
        }
      },
      "source": [
        "cd.head(2)"
      ],
      "execution_count": 0,
      "outputs": [
        {
          "output_type": "execute_result",
          "data": {
            "text/html": [
              "<div>\n",
              "<style scoped>\n",
              "    .dataframe tbody tr th:only-of-type {\n",
              "        vertical-align: middle;\n",
              "    }\n",
              "\n",
              "    .dataframe tbody tr th {\n",
              "        vertical-align: top;\n",
              "    }\n",
              "\n",
              "    .dataframe thead th {\n",
              "        text-align: right;\n",
              "    }\n",
              "</style>\n",
              "<table border=\"1\" class=\"dataframe\">\n",
              "  <thead>\n",
              "    <tr style=\"text-align: right;\">\n",
              "      <th></th>\n",
              "      <th>mql_id</th>\n",
              "      <th>seller_id</th>\n",
              "      <th>sdr_id</th>\n",
              "      <th>sr_id</th>\n",
              "      <th>won_date</th>\n",
              "      <th>business_segment</th>\n",
              "      <th>lead_type</th>\n",
              "      <th>lead_behaviour_profile</th>\n",
              "      <th>has_company</th>\n",
              "      <th>has_gtin</th>\n",
              "      <th>average_stock</th>\n",
              "      <th>business_type</th>\n",
              "      <th>declared_product_catalog_size</th>\n",
              "      <th>declared_monthly_revenue</th>\n",
              "    </tr>\n",
              "  </thead>\n",
              "  <tbody>\n",
              "    <tr>\n",
              "      <th>0</th>\n",
              "      <td>5420aad7fec3549a85876ba1c529bd84</td>\n",
              "      <td>2c43fb513632d29b3b58df74816f1b06</td>\n",
              "      <td>a8387c01a09e99ce014107505b92388c</td>\n",
              "      <td>4ef15afb4b2723d8f3d81e51ec7afefe</td>\n",
              "      <td>2018-02-26 19:58:54</td>\n",
              "      <td>pet</td>\n",
              "      <td>online_medium</td>\n",
              "      <td>cat</td>\n",
              "      <td>NaN</td>\n",
              "      <td>NaN</td>\n",
              "      <td>NaN</td>\n",
              "      <td>reseller</td>\n",
              "      <td>NaN</td>\n",
              "      <td>0.0</td>\n",
              "    </tr>\n",
              "    <tr>\n",
              "      <th>1</th>\n",
              "      <td>a555fb36b9368110ede0f043dfc3b9a0</td>\n",
              "      <td>bbb7d7893a450660432ea6652310ebb7</td>\n",
              "      <td>09285259593c61296eef10c734121d5b</td>\n",
              "      <td>d3d1e91a157ea7f90548eef82f1955e3</td>\n",
              "      <td>2018-05-08 20:17:59</td>\n",
              "      <td>car_accessories</td>\n",
              "      <td>industry</td>\n",
              "      <td>eagle</td>\n",
              "      <td>NaN</td>\n",
              "      <td>NaN</td>\n",
              "      <td>NaN</td>\n",
              "      <td>reseller</td>\n",
              "      <td>NaN</td>\n",
              "      <td>0.0</td>\n",
              "    </tr>\n",
              "  </tbody>\n",
              "</table>\n",
              "</div>"
            ],
            "text/plain": [
              "                             mql_id  ... declared_monthly_revenue\n",
              "0  5420aad7fec3549a85876ba1c529bd84  ...                      0.0\n",
              "1  a555fb36b9368110ede0f043dfc3b9a0  ...                      0.0\n",
              "\n",
              "[2 rows x 14 columns]"
            ]
          },
          "metadata": {
            "tags": []
          },
          "execution_count": 3
        }
      ]
    },
    {
      "cell_type": "code",
      "metadata": {
        "id": "eSQMu39oWvmE",
        "colab_type": "code",
        "outputId": "9d365529-885d-41f5-e851-48259648595b",
        "colab": {
          "base_uri": "https://localhost:8080/",
          "height": 111
        }
      },
      "source": [
        "mql.head(2)"
      ],
      "execution_count": 0,
      "outputs": [
        {
          "output_type": "execute_result",
          "data": {
            "text/html": [
              "<div>\n",
              "<style scoped>\n",
              "    .dataframe tbody tr th:only-of-type {\n",
              "        vertical-align: middle;\n",
              "    }\n",
              "\n",
              "    .dataframe tbody tr th {\n",
              "        vertical-align: top;\n",
              "    }\n",
              "\n",
              "    .dataframe thead th {\n",
              "        text-align: right;\n",
              "    }\n",
              "</style>\n",
              "<table border=\"1\" class=\"dataframe\">\n",
              "  <thead>\n",
              "    <tr style=\"text-align: right;\">\n",
              "      <th></th>\n",
              "      <th>mql_id</th>\n",
              "      <th>first_contact_date</th>\n",
              "      <th>landing_page_id</th>\n",
              "      <th>origin</th>\n",
              "    </tr>\n",
              "  </thead>\n",
              "  <tbody>\n",
              "    <tr>\n",
              "      <th>0</th>\n",
              "      <td>dac32acd4db4c29c230538b72f8dd87d</td>\n",
              "      <td>2018-02-01</td>\n",
              "      <td>88740e65d5d6b056e0cda098e1ea6313</td>\n",
              "      <td>social</td>\n",
              "    </tr>\n",
              "    <tr>\n",
              "      <th>1</th>\n",
              "      <td>8c18d1de7f67e60dbd64e3c07d7e9d5d</td>\n",
              "      <td>2017-10-20</td>\n",
              "      <td>007f9098284a86ee80ddeb25d53e0af8</td>\n",
              "      <td>paid_search</td>\n",
              "    </tr>\n",
              "  </tbody>\n",
              "</table>\n",
              "</div>"
            ],
            "text/plain": [
              "                             mql_id  ...       origin\n",
              "0  dac32acd4db4c29c230538b72f8dd87d  ...       social\n",
              "1  8c18d1de7f67e60dbd64e3c07d7e9d5d  ...  paid_search\n",
              "\n",
              "[2 rows x 4 columns]"
            ]
          },
          "metadata": {
            "tags": []
          },
          "execution_count": 4
        }
      ]
    },
    {
      "cell_type": "code",
      "metadata": {
        "id": "WI-B1edS2k0f",
        "colab_type": "code",
        "outputId": "dc517fdc-68da-44aa-bf3f-8f5e1497ce23",
        "colab": {
          "base_uri": "https://localhost:8080/",
          "height": 497
        }
      },
      "source": [
        "plt.subplots(figsize=(15,8))\n",
        "\n",
        "_ = sns.countplot(y='business_segment', \n",
        "    data=cd, \n",
        "    palette='husl', \n",
        "    order=cd['business_segment'].value_counts().index)"
      ],
      "execution_count": 0,
      "outputs": [
        {
          "output_type": "display_data",
          "data": {
            "image/png": "[encoded data removed]",
            "text/plain": [
              "<Figure size 1080x576 with 1 Axes>"
            ]
          },
          "metadata": {
            "tags": []
          }
        }
      ]
    },
    {
      "cell_type": "code",
      "metadata": {
        "id": "xwV0w3S75i-2",
        "colab_type": "code",
        "outputId": "1b3e4618-d078-493c-e92e-91845efeff33",
        "colab": {
          "base_uri": "https://localhost:8080/",
          "height": 390
        }
      },
      "source": [
        "plt.subplots(figsize=(10,6))\n",
        "\n",
        "_ = sns.countplot(x='lead_type', \n",
        "    data=cd, \n",
        "    palette='Blues', \n",
        "    order=cd['lead_type'].value_counts().index)"
      ],
      "execution_count": 0,
      "outputs": [
        {
          "output_type": "display_data",
          "data": {
            "image/png": "[encoded data removed]",
            "text/plain": [
              "<Figure size 720x432 with 1 Axes>"
            ]
          },
          "metadata": {
            "tags": []
          }
        }
      ]
    },
    {
      "cell_type": "code",
      "metadata": {
        "id": "p0mN2y5bpDzd",
        "colab_type": "code",
        "outputId": "bbe98eed-7908-45c9-dbc7-5ac9e7d6a372",
        "colab": {
          "base_uri": "https://localhost:8080/",
          "height": 204
        }
      },
      "source": [
        "mql['origin'].value_counts()"
      ],
      "execution_count": 0,
      "outputs": [
        {
          "output_type": "execute_result",
          "data": {
            "text/plain": [
              "organic_search       2296\n",
              "paid_search          1586\n",
              "social               1350\n",
              "unknown              1099\n",
              "direct_traffic        499\n",
              "email                 493\n",
              "referral              284\n",
              "other                 150\n",
              "display               118\n",
              "other_publicities      65\n",
              "Name: origin, dtype: int64"
            ]
          },
          "metadata": {
            "tags": []
          },
          "execution_count": 5
        }
      ]
    },
    {
      "cell_type": "code",
      "metadata": {
        "id": "ccxaVMHMXAvq",
        "colab_type": "code",
        "colab": {}
      },
      "source": [
        "mql_cd = mql.merge(cd, on='mql_id', how='left') #fiz um merge nos 2 datasets mql + cd, chamando o dataset novo de mlq_cd"
      ],
      "execution_count": 0,
      "outputs": []
    },
    {
      "cell_type": "code",
      "metadata": {
        "id": "E8KVGrYYXQjB",
        "colab_type": "code",
        "outputId": "0646009e-86f4-4f3d-9a7f-a916cbd2787f",
        "colab": {
          "base_uri": "https://localhost:8080/",
          "height": 193
        }
      },
      "source": [
        "mql_cd.head(4)"
      ],
      "execution_count": 0,
      "outputs": [
        {
          "output_type": "execute_result",
          "data": {
            "text/html": [
              "<div>\n",
              "<style scoped>\n",
              "    .dataframe tbody tr th:only-of-type {\n",
              "        vertical-align: middle;\n",
              "    }\n",
              "\n",
              "    .dataframe tbody tr th {\n",
              "        vertical-align: top;\n",
              "    }\n",
              "\n",
              "    .dataframe thead th {\n",
              "        text-align: right;\n",
              "    }\n",
              "</style>\n",
              "<table border=\"1\" class=\"dataframe\">\n",
              "  <thead>\n",
              "    <tr style=\"text-align: right;\">\n",
              "      <th></th>\n",
              "      <th>mql_id</th>\n",
              "      <th>first_contact_date</th>\n",
              "      <th>landing_page_id</th>\n",
              "      <th>origin</th>\n",
              "      <th>seller_id</th>\n",
              "      <th>sdr_id</th>\n",
              "      <th>sr_id</th>\n",
              "      <th>won_date</th>\n",
              "      <th>business_segment</th>\n",
              "      <th>lead_type</th>\n",
              "      <th>lead_behaviour_profile</th>\n",
              "      <th>has_company</th>\n",
              "      <th>has_gtin</th>\n",
              "      <th>average_stock</th>\n",
              "      <th>business_type</th>\n",
              "      <th>declared_product_catalog_size</th>\n",
              "      <th>declared_monthly_revenue</th>\n",
              "    </tr>\n",
              "  </thead>\n",
              "  <tbody>\n",
              "    <tr>\n",
              "      <th>0</th>\n",
              "      <td>dac32acd4db4c29c230538b72f8dd87d</td>\n",
              "      <td>2018-02-01</td>\n",
              "      <td>88740e65d5d6b056e0cda098e1ea6313</td>\n",
              "      <td>social</td>\n",
              "      <td>NaN</td>\n",
              "      <td>NaN</td>\n",
              "      <td>NaN</td>\n",
              "      <td>NaN</td>\n",
              "      <td>NaN</td>\n",
              "      <td>NaN</td>\n",
              "      <td>NaN</td>\n",
              "      <td>NaN</td>\n",
              "      <td>NaN</td>\n",
              "      <td>NaN</td>\n",
              "      <td>NaN</td>\n",
              "      <td>NaN</td>\n",
              "      <td>NaN</td>\n",
              "    </tr>\n",
              "    <tr>\n",
              "      <th>1</th>\n",
              "      <td>8c18d1de7f67e60dbd64e3c07d7e9d5d</td>\n",
              "      <td>2017-10-20</td>\n",
              "      <td>007f9098284a86ee80ddeb25d53e0af8</td>\n",
              "      <td>paid_search</td>\n",
              "      <td>NaN</td>\n",
              "      <td>NaN</td>\n",
              "      <td>NaN</td>\n",
              "      <td>NaN</td>\n",
              "      <td>NaN</td>\n",
              "      <td>NaN</td>\n",
              "      <td>NaN</td>\n",
              "      <td>NaN</td>\n",
              "      <td>NaN</td>\n",
              "      <td>NaN</td>\n",
              "      <td>NaN</td>\n",
              "      <td>NaN</td>\n",
              "      <td>NaN</td>\n",
              "    </tr>\n",
              "    <tr>\n",
              "      <th>2</th>\n",
              "      <td>b4bc852d233dfefc5131f593b538befa</td>\n",
              "      <td>2018-03-22</td>\n",
              "      <td>a7982125ff7aa3b2054c6e44f9d28522</td>\n",
              "      <td>organic_search</td>\n",
              "      <td>NaN</td>\n",
              "      <td>NaN</td>\n",
              "      <td>NaN</td>\n",
              "      <td>NaN</td>\n",
              "      <td>NaN</td>\n",
              "      <td>NaN</td>\n",
              "      <td>NaN</td>\n",
              "      <td>NaN</td>\n",
              "      <td>NaN</td>\n",
              "      <td>NaN</td>\n",
              "      <td>NaN</td>\n",
              "      <td>NaN</td>\n",
              "      <td>NaN</td>\n",
              "    </tr>\n",
              "    <tr>\n",
              "      <th>3</th>\n",
              "      <td>6be030b81c75970747525b843c1ef4f8</td>\n",
              "      <td>2018-01-22</td>\n",
              "      <td>d45d558f0daeecf3cccdffe3c59684aa</td>\n",
              "      <td>email</td>\n",
              "      <td>NaN</td>\n",
              "      <td>NaN</td>\n",
              "      <td>NaN</td>\n",
              "      <td>NaN</td>\n",
              "      <td>NaN</td>\n",
              "      <td>NaN</td>\n",
              "      <td>NaN</td>\n",
              "      <td>NaN</td>\n",
              "      <td>NaN</td>\n",
              "      <td>NaN</td>\n",
              "      <td>NaN</td>\n",
              "      <td>NaN</td>\n",
              "      <td>NaN</td>\n",
              "    </tr>\n",
              "  </tbody>\n",
              "</table>\n",
              "</div>"
            ],
            "text/plain": [
              "                             mql_id  ... declared_monthly_revenue\n",
              "0  dac32acd4db4c29c230538b72f8dd87d  ...                      NaN\n",
              "1  8c18d1de7f67e60dbd64e3c07d7e9d5d  ...                      NaN\n",
              "2  b4bc852d233dfefc5131f593b538befa  ...                      NaN\n",
              "3  6be030b81c75970747525b843c1ef4f8  ...                      NaN\n",
              "\n",
              "[4 rows x 17 columns]"
            ]
          },
          "metadata": {
            "tags": []
          },
          "execution_count": 7
        }
      ]
    },
    {
      "cell_type": "code",
      "metadata": {
        "id": "i6J8usK2XjjK",
        "colab_type": "code",
        "outputId": "430b8ffa-3d41-4d9d-b807-98e8c6ae9b5a",
        "colab": {
          "base_uri": "https://localhost:8080/",
          "height": 204
        }
      },
      "source": [
        "mql_cd['origin'].value_counts()"
      ],
      "execution_count": 0,
      "outputs": [
        {
          "output_type": "execute_result",
          "data": {
            "text/plain": [
              "organic_search       2296\n",
              "paid_search          1586\n",
              "social               1350\n",
              "unknown              1099\n",
              "direct_traffic        499\n",
              "email                 493\n",
              "referral              284\n",
              "other                 150\n",
              "display               118\n",
              "other_publicities      65\n",
              "Name: origin, dtype: int64"
            ]
          },
          "metadata": {
            "tags": []
          },
          "execution_count": 8
        }
      ]
    },
    {
      "cell_type": "code",
      "metadata": {
        "id": "fLHMkTwCYhSi",
        "colab_type": "code",
        "outputId": "1fc75129-d1c0-466e-ca70-78a88a6a1f99",
        "colab": {
          "base_uri": "https://localhost:8080/",
          "height": 295
        }
      },
      "source": [
        "_ = sns.countplot(y='origin', \n",
        "    data=mql_cd, \n",
        "    palette='Greens_d', \n",
        "    order=mql_cd['origin'].value_counts().index).set_title(\"Origem\")"
      ],
      "execution_count": 0,
      "outputs": [
        {
          "output_type": "display_data",
          "data": {
            "image/png": "[encoded data removed]",
            "text/plain": [
              "<Figure size 432x288 with 1 Axes>"
            ]
          },
          "metadata": {
            "tags": []
          }
        }
      ]
    },
    {
      "cell_type": "code",
      "metadata": {
        "id": "rhqYm9OoZaI5",
        "colab_type": "code",
        "outputId": "266eeb65-3bd5-40ec-f408-0bc8dbb9bfd7",
        "colab": {
          "base_uri": "https://localhost:8080/",
          "height": 452
        }
      },
      "source": [
        "mql['first_contact_date'] = mql['first_contact_date'].astype('datetime64')\n",
        "ldf = mql.groupby([mql['first_contact_date'].dt.year, mql['first_contact_date'].dt.month]).count()\n",
        "ldf.index.names = ['year','month']\n",
        "ldf = ldf.drop(['first_contact_date','landing_page_id','origin'], axis = 1) \n",
        "ldf\n",
        "# ajeitando as info para fazer uma relação de mql_id (marketing qualified lead) por mês/ano do primeiro contato"
      ],
      "execution_count": 0,
      "outputs": [
        {
          "output_type": "execute_result",
          "data": {
            "text/html": [
              "<div>\n",
              "<style scoped>\n",
              "    .dataframe tbody tr th:only-of-type {\n",
              "        vertical-align: middle;\n",
              "    }\n",
              "\n",
              "    .dataframe tbody tr th {\n",
              "        vertical-align: top;\n",
              "    }\n",
              "\n",
              "    .dataframe thead th {\n",
              "        text-align: right;\n",
              "    }\n",
              "</style>\n",
              "<table border=\"1\" class=\"dataframe\">\n",
              "  <thead>\n",
              "    <tr style=\"text-align: right;\">\n",
              "      <th></th>\n",
              "      <th></th>\n",
              "      <th>mql_id</th>\n",
              "    </tr>\n",
              "    <tr>\n",
              "      <th>year</th>\n",
              "      <th>month</th>\n",
              "      <th></th>\n",
              "    </tr>\n",
              "  </thead>\n",
              "  <tbody>\n",
              "    <tr>\n",
              "      <th rowspan=\"7\" valign=\"top\">2017</th>\n",
              "      <th>6</th>\n",
              "      <td>4</td>\n",
              "    </tr>\n",
              "    <tr>\n",
              "      <th>7</th>\n",
              "      <td>239</td>\n",
              "    </tr>\n",
              "    <tr>\n",
              "      <th>8</th>\n",
              "      <td>386</td>\n",
              "    </tr>\n",
              "    <tr>\n",
              "      <th>9</th>\n",
              "      <td>312</td>\n",
              "    </tr>\n",
              "    <tr>\n",
              "      <th>10</th>\n",
              "      <td>416</td>\n",
              "    </tr>\n",
              "    <tr>\n",
              "      <th>11</th>\n",
              "      <td>445</td>\n",
              "    </tr>\n",
              "    <tr>\n",
              "      <th>12</th>\n",
              "      <td>200</td>\n",
              "    </tr>\n",
              "    <tr>\n",
              "      <th rowspan=\"5\" valign=\"top\">2018</th>\n",
              "      <th>1</th>\n",
              "      <td>1141</td>\n",
              "    </tr>\n",
              "    <tr>\n",
              "      <th>2</th>\n",
              "      <td>1028</td>\n",
              "    </tr>\n",
              "    <tr>\n",
              "      <th>3</th>\n",
              "      <td>1174</td>\n",
              "    </tr>\n",
              "    <tr>\n",
              "      <th>4</th>\n",
              "      <td>1352</td>\n",
              "    </tr>\n",
              "    <tr>\n",
              "      <th>5</th>\n",
              "      <td>1303</td>\n",
              "    </tr>\n",
              "  </tbody>\n",
              "</table>\n",
              "</div>"
            ],
            "text/plain": [
              "            mql_id\n",
              "year month        \n",
              "2017 6           4\n",
              "     7         239\n",
              "     8         386\n",
              "     9         312\n",
              "     10        416\n",
              "     11        445\n",
              "     12        200\n",
              "2018 1        1141\n",
              "     2        1028\n",
              "     3        1174\n",
              "     4        1352\n",
              "     5        1303"
            ]
          },
          "metadata": {
            "tags": []
          },
          "execution_count": 10
        }
      ]
    },
    {
      "cell_type": "markdown",
      "metadata": {
        "id": "Puf5vQgmkWMS",
        "colab_type": "text"
      },
      "source": [
        "## **GRÁFICO IMPORTANTE:**"
      ]
    },
    {
      "cell_type": "code",
      "metadata": {
        "id": "Od9caxaCbGAE",
        "colab_type": "code",
        "outputId": "92551c04-4d5e-4f5d-e33a-fa2af3a5d490",
        "colab": {
          "base_uri": "https://localhost:8080/",
          "height": 354
        }
      },
      "source": [
        "ldf.plot(kind = \"bar\", color=(0.2, 0.4, 0.6, 0.6)).set_title('Primeiro contato e volume de MQLs no período de Junho de 2017 à Maio de 2018 ')"
      ],
      "execution_count": 0,
      "outputs": [
        {
          "output_type": "execute_result",
          "data": {
            "text/plain": [
              "Text(0.5, 1.0, 'Primeiro contato e volume de MQLs no período de Junho de 2017 à Maio de 2018 ')"
            ]
          },
          "metadata": {
            "tags": []
          },
          "execution_count": 11
        },
        {
          "output_type": "display_data",
          "data": {
            "image/png": "[encoded data removed]",
            "text/plain": [
              "<Figure size 432x288 with 1 Axes>"
            ]
          },
          "metadata": {
            "tags": []
          }
        }
      ]
    },
    {
      "cell_type": "markdown",
      "metadata": {
        "id": "ilLGRJfCgKiA",
        "colab_type": "text"
      },
      "source": [
        "**Conceitos:** O marketing qualified lead (MQL) ou lead qualificado de marketing refere-se a um contato que demonstrou real interesse no seu produto ou serviço e possui um conjunto de qualificações para avançar no funil de vendas."
      ]
    },
    {
      "cell_type": "code",
      "metadata": {
        "id": "nlWocsepkwbW",
        "colab_type": "code",
        "outputId": "8eb7cd40-94b5-4012-9345-629bdcdce0b3",
        "colab": {
          "base_uri": "https://localhost:8080/",
          "height": 595
        }
      },
      "source": [
        "mql_cd['business_segment'].value_counts()"
      ],
      "execution_count": 0,
      "outputs": [
        {
          "output_type": "execute_result",
          "data": {
            "text/plain": [
              "home_decor                         105\n",
              "health_beauty                       93\n",
              "car_accessories                     77\n",
              "household_utilities                 71\n",
              "construction_tools_house_garden     69\n",
              "audio_video_electronics             64\n",
              "computers                           34\n",
              "pet                                 30\n",
              "food_supplement                     28\n",
              "food_drink                          26\n",
              "sports_leisure                      25\n",
              "bags_backpacks                      22\n",
              "bed_bath_table                      22\n",
              "toys                                20\n",
              "fashion_accessories                 19\n",
              "home_office_furniture               14\n",
              "stationery                          13\n",
              "phone_mobile                        13\n",
              "handcrafted                         12\n",
              "small_appliances                    12\n",
              "baby                                10\n",
              "music_instruments                    9\n",
              "books                                9\n",
              "watches                              8\n",
              "jewerly                              8\n",
              "home_appliances                      7\n",
              "gifts                                5\n",
              "party                                5\n",
              "other                                3\n",
              "air_conditioning                     3\n",
              "games_consoles                       2\n",
              "perfume                              2\n",
              "religious                            1\n",
              "Name: business_segment, dtype: int64"
            ]
          },
          "metadata": {
            "tags": []
          },
          "execution_count": 12
        }
      ]
    },
    {
      "cell_type": "code",
      "metadata": {
        "id": "pR5yFnYRfhSO",
        "colab_type": "code",
        "outputId": "3a10e48d-dc17-488c-fde0-c947806319ee",
        "colab": {
          "base_uri": "https://localhost:8080/",
          "height": 452
        }
      },
      "source": [
        "cd['won_date'] = cd['won_date'].astype('datetime64')\n",
        "ldf = cd.groupby([cd['won_date'].dt.year, cd['won_date'].dt.month]).count()\n",
        "ldf.index.names = ['year','month']\n",
        "ldf.drop(ldf.iloc[:, 1:], inplace = True, axis = 1)\n",
        "ldf"
      ],
      "execution_count": 0,
      "outputs": [
        {
          "output_type": "execute_result",
          "data": {
            "text/html": [
              "<div>\n",
              "<style scoped>\n",
              "    .dataframe tbody tr th:only-of-type {\n",
              "        vertical-align: middle;\n",
              "    }\n",
              "\n",
              "    .dataframe tbody tr th {\n",
              "        vertical-align: top;\n",
              "    }\n",
              "\n",
              "    .dataframe thead th {\n",
              "        text-align: right;\n",
              "    }\n",
              "</style>\n",
              "<table border=\"1\" class=\"dataframe\">\n",
              "  <thead>\n",
              "    <tr style=\"text-align: right;\">\n",
              "      <th></th>\n",
              "      <th></th>\n",
              "      <th>mql_id</th>\n",
              "    </tr>\n",
              "    <tr>\n",
              "      <th>year</th>\n",
              "      <th>month</th>\n",
              "      <th></th>\n",
              "    </tr>\n",
              "  </thead>\n",
              "  <tbody>\n",
              "    <tr>\n",
              "      <th>2017</th>\n",
              "      <th>12</th>\n",
              "      <td>3</td>\n",
              "    </tr>\n",
              "    <tr>\n",
              "      <th rowspan=\"11\" valign=\"top\">2018</th>\n",
              "      <th>1</th>\n",
              "      <td>73</td>\n",
              "    </tr>\n",
              "    <tr>\n",
              "      <th>2</th>\n",
              "      <td>113</td>\n",
              "    </tr>\n",
              "    <tr>\n",
              "      <th>3</th>\n",
              "      <td>147</td>\n",
              "    </tr>\n",
              "    <tr>\n",
              "      <th>4</th>\n",
              "      <td>207</td>\n",
              "    </tr>\n",
              "    <tr>\n",
              "      <th>5</th>\n",
              "      <td>122</td>\n",
              "    </tr>\n",
              "    <tr>\n",
              "      <th>6</th>\n",
              "      <td>57</td>\n",
              "    </tr>\n",
              "    <tr>\n",
              "      <th>7</th>\n",
              "      <td>37</td>\n",
              "    </tr>\n",
              "    <tr>\n",
              "      <th>8</th>\n",
              "      <td>33</td>\n",
              "    </tr>\n",
              "    <tr>\n",
              "      <th>9</th>\n",
              "      <td>23</td>\n",
              "    </tr>\n",
              "    <tr>\n",
              "      <th>10</th>\n",
              "      <td>21</td>\n",
              "    </tr>\n",
              "    <tr>\n",
              "      <th>11</th>\n",
              "      <td>6</td>\n",
              "    </tr>\n",
              "  </tbody>\n",
              "</table>\n",
              "</div>"
            ],
            "text/plain": [
              "            mql_id\n",
              "year month        \n",
              "2017 12          3\n",
              "2018 1          73\n",
              "     2         113\n",
              "     3         147\n",
              "     4         207\n",
              "     5         122\n",
              "     6          57\n",
              "     7          37\n",
              "     8          33\n",
              "     9          23\n",
              "     10         21\n",
              "     11          6"
            ]
          },
          "metadata": {
            "tags": []
          },
          "execution_count": 13
        }
      ]
    },
    {
      "cell_type": "markdown",
      "metadata": {
        "id": "x8GLJOylysX7",
        "colab_type": "text"
      },
      "source": [
        "## **WON DATE:**"
      ]
    },
    {
      "cell_type": "code",
      "metadata": {
        "id": "ES2vYPGGuvgZ",
        "colab_type": "code",
        "outputId": "f2af5347-aff5-45ed-b85d-676bfda51d52",
        "colab": {
          "base_uri": "https://localhost:8080/",
          "height": 354
        }
      },
      "source": [
        "ldf.plot(kind = \"bar\", color=(0.2, 0.4, 0.6, 0.6)).set_title('Negócios fechados com MQLs por mês/ano ')"
      ],
      "execution_count": 0,
      "outputs": [
        {
          "output_type": "execute_result",
          "data": {
            "text/plain": [
              "Text(0.5, 1.0, 'Negócios fechados com MQLs por mês/ano ')"
            ]
          },
          "metadata": {
            "tags": []
          },
          "execution_count": 14
        },
        {
          "output_type": "display_data",
          "data": {
            "image/png": "[encoded data removed]",
            "text/plain": [
              "<Figure size 432x288 with 1 Axes>"
            ]
          },
          "metadata": {
            "tags": []
          }
        }
      ]
    },
    {
      "cell_type": "code",
      "metadata": {
        "id": "eoqIGHTQyxa6",
        "colab_type": "code",
        "outputId": "1dbab976-da77-4bbf-89c4-e535807baa62",
        "colab": {
          "base_uri": "https://localhost:8080/",
          "height": 390
        }
      },
      "source": [
        "mql['first_contact_date(y-m)'] = mql['first_contact_date'].dt.to_period('M')\n",
        "origin_mql = pd.pivot_table(mql,\n",
        "                            index='origin',\n",
        "                            columns='first_contact_date(y-m)',\n",
        "                            values='mql_id',                            \n",
        "                            aggfunc='count',\n",
        "                            fill_value=0)\n",
        "\n",
        "# Sort index from largest to smallest in volume\n",
        "origin_df = mql.groupby('origin').mql_id \\\n",
        "                                   .count() \\\n",
        "                                   .sort_values(ascending=False) \\\n",
        "                                   .index\n",
        "\n",
        "origin_mql = origin_mql.reindex(origin_df)\n",
        "origin_mql"
      ],
      "execution_count": 0,
      "outputs": [
        {
          "output_type": "execute_result",
          "data": {
            "text/html": [
              "<div>\n",
              "<style scoped>\n",
              "    .dataframe tbody tr th:only-of-type {\n",
              "        vertical-align: middle;\n",
              "    }\n",
              "\n",
              "    .dataframe tbody tr th {\n",
              "        vertical-align: top;\n",
              "    }\n",
              "\n",
              "    .dataframe thead th {\n",
              "        text-align: right;\n",
              "    }\n",
              "</style>\n",
              "<table border=\"1\" class=\"dataframe\">\n",
              "  <thead>\n",
              "    <tr style=\"text-align: right;\">\n",
              "      <th>first_contact_date(y-m)</th>\n",
              "      <th>2017-06</th>\n",
              "      <th>2017-07</th>\n",
              "      <th>2017-08</th>\n",
              "      <th>2017-09</th>\n",
              "      <th>2017-10</th>\n",
              "      <th>2017-11</th>\n",
              "      <th>2017-12</th>\n",
              "      <th>2018-01</th>\n",
              "      <th>2018-02</th>\n",
              "      <th>2018-03</th>\n",
              "      <th>2018-04</th>\n",
              "      <th>2018-05</th>\n",
              "    </tr>\n",
              "    <tr>\n",
              "      <th>origin</th>\n",
              "      <th></th>\n",
              "      <th></th>\n",
              "      <th></th>\n",
              "      <th></th>\n",
              "      <th></th>\n",
              "      <th></th>\n",
              "      <th></th>\n",
              "      <th></th>\n",
              "      <th></th>\n",
              "      <th></th>\n",
              "      <th></th>\n",
              "      <th></th>\n",
              "    </tr>\n",
              "  </thead>\n",
              "  <tbody>\n",
              "    <tr>\n",
              "      <th>organic_search</th>\n",
              "      <td>0</td>\n",
              "      <td>54</td>\n",
              "      <td>122</td>\n",
              "      <td>78</td>\n",
              "      <td>125</td>\n",
              "      <td>121</td>\n",
              "      <td>60</td>\n",
              "      <td>412</td>\n",
              "      <td>291</td>\n",
              "      <td>340</td>\n",
              "      <td>349</td>\n",
              "      <td>344</td>\n",
              "    </tr>\n",
              "    <tr>\n",
              "      <th>paid_search</th>\n",
              "      <td>0</td>\n",
              "      <td>56</td>\n",
              "      <td>79</td>\n",
              "      <td>64</td>\n",
              "      <td>100</td>\n",
              "      <td>70</td>\n",
              "      <td>35</td>\n",
              "      <td>170</td>\n",
              "      <td>212</td>\n",
              "      <td>262</td>\n",
              "      <td>272</td>\n",
              "      <td>266</td>\n",
              "    </tr>\n",
              "    <tr>\n",
              "      <th>social</th>\n",
              "      <td>0</td>\n",
              "      <td>12</td>\n",
              "      <td>45</td>\n",
              "      <td>56</td>\n",
              "      <td>52</td>\n",
              "      <td>95</td>\n",
              "      <td>39</td>\n",
              "      <td>162</td>\n",
              "      <td>156</td>\n",
              "      <td>139</td>\n",
              "      <td>325</td>\n",
              "      <td>269</td>\n",
              "    </tr>\n",
              "    <tr>\n",
              "      <th>unknown</th>\n",
              "      <td>1</td>\n",
              "      <td>35</td>\n",
              "      <td>70</td>\n",
              "      <td>39</td>\n",
              "      <td>53</td>\n",
              "      <td>63</td>\n",
              "      <td>25</td>\n",
              "      <td>151</td>\n",
              "      <td>156</td>\n",
              "      <td>186</td>\n",
              "      <td>166</td>\n",
              "      <td>154</td>\n",
              "    </tr>\n",
              "    <tr>\n",
              "      <th>direct_traffic</th>\n",
              "      <td>0</td>\n",
              "      <td>16</td>\n",
              "      <td>22</td>\n",
              "      <td>22</td>\n",
              "      <td>23</td>\n",
              "      <td>26</td>\n",
              "      <td>10</td>\n",
              "      <td>82</td>\n",
              "      <td>65</td>\n",
              "      <td>80</td>\n",
              "      <td>75</td>\n",
              "      <td>78</td>\n",
              "    </tr>\n",
              "    <tr>\n",
              "      <th>email</th>\n",
              "      <td>1</td>\n",
              "      <td>19</td>\n",
              "      <td>24</td>\n",
              "      <td>23</td>\n",
              "      <td>30</td>\n",
              "      <td>37</td>\n",
              "      <td>12</td>\n",
              "      <td>61</td>\n",
              "      <td>68</td>\n",
              "      <td>74</td>\n",
              "      <td>50</td>\n",
              "      <td>94</td>\n",
              "    </tr>\n",
              "    <tr>\n",
              "      <th>referral</th>\n",
              "      <td>0</td>\n",
              "      <td>8</td>\n",
              "      <td>16</td>\n",
              "      <td>12</td>\n",
              "      <td>8</td>\n",
              "      <td>20</td>\n",
              "      <td>9</td>\n",
              "      <td>41</td>\n",
              "      <td>34</td>\n",
              "      <td>38</td>\n",
              "      <td>45</td>\n",
              "      <td>53</td>\n",
              "    </tr>\n",
              "    <tr>\n",
              "      <th>other</th>\n",
              "      <td>0</td>\n",
              "      <td>12</td>\n",
              "      <td>3</td>\n",
              "      <td>9</td>\n",
              "      <td>8</td>\n",
              "      <td>3</td>\n",
              "      <td>1</td>\n",
              "      <td>39</td>\n",
              "      <td>16</td>\n",
              "      <td>22</td>\n",
              "      <td>26</td>\n",
              "      <td>11</td>\n",
              "    </tr>\n",
              "    <tr>\n",
              "      <th>display</th>\n",
              "      <td>1</td>\n",
              "      <td>19</td>\n",
              "      <td>2</td>\n",
              "      <td>5</td>\n",
              "      <td>5</td>\n",
              "      <td>6</td>\n",
              "      <td>5</td>\n",
              "      <td>11</td>\n",
              "      <td>18</td>\n",
              "      <td>16</td>\n",
              "      <td>19</td>\n",
              "      <td>11</td>\n",
              "    </tr>\n",
              "    <tr>\n",
              "      <th>other_publicities</th>\n",
              "      <td>0</td>\n",
              "      <td>3</td>\n",
              "      <td>2</td>\n",
              "      <td>4</td>\n",
              "      <td>11</td>\n",
              "      <td>3</td>\n",
              "      <td>1</td>\n",
              "      <td>7</td>\n",
              "      <td>5</td>\n",
              "      <td>8</td>\n",
              "      <td>12</td>\n",
              "      <td>9</td>\n",
              "    </tr>\n",
              "  </tbody>\n",
              "</table>\n",
              "</div>"
            ],
            "text/plain": [
              "first_contact_date(y-m)  2017-06  2017-07  2017-08  ...  2018-03  2018-04  2018-05\n",
              "origin                                              ...                           \n",
              "organic_search                 0       54      122  ...      340      349      344\n",
              "paid_search                    0       56       79  ...      262      272      266\n",
              "social                         0       12       45  ...      139      325      269\n",
              "unknown                        1       35       70  ...      186      166      154\n",
              "direct_traffic                 0       16       22  ...       80       75       78\n",
              "email                          1       19       24  ...       74       50       94\n",
              "referral                       0        8       16  ...       38       45       53\n",
              "other                          0       12        3  ...       22       26       11\n",
              "display                        1       19        2  ...       16       19       11\n",
              "other_publicities              0        3        2  ...        8       12        9\n",
              "\n",
              "[10 rows x 12 columns]"
            ]
          },
          "metadata": {
            "tags": []
          },
          "execution_count": 15
        }
      ]
    },
    {
      "cell_type": "code",
      "metadata": {
        "id": "B_2wjvo_2LQG",
        "colab_type": "code",
        "outputId": "88553e41-5593-4fcf-9d1b-f95cb9eb423c",
        "colab": {
          "base_uri": "https://localhost:8080/",
          "height": 498
        }
      },
      "source": [
        "origin_mql.plot(kind='bar', figsize=(22, 6))"
      ],
      "execution_count": 0,
      "outputs": [
        {
          "output_type": "execute_result",
          "data": {
            "text/plain": [
              "<matplotlib.axes._subplots.AxesSubplot at 0x7f9b1a76c208>"
            ]
          },
          "metadata": {
            "tags": []
          },
          "execution_count": 16
        },
        {
          "output_type": "display_data",
          "data": {
            "image/png": "[encoded data removed]",
            "text/plain": [
              "<Figure size 1584x432 with 1 Axes>"
            ]
          },
          "metadata": {
            "tags": []
          }
        }
      ]
    },
    {
      "cell_type": "markdown",
      "metadata": {
        "id": "NAMC4I-enGhw",
        "colab_type": "text"
      },
      "source": [
        "Heatmap: **Relação entre canal de origem e primeiro contatos dos MQLs por mês/ano (Junho de 2017 a Maio de 2018)**"
      ]
    },
    {
      "cell_type": "code",
      "metadata": {
        "id": "Ai9iqVCgDtHf",
        "colab_type": "code",
        "outputId": "c02d10af-f358-46bf-b1fc-5ffb76170ad4",
        "colab": {
          "base_uri": "https://localhost:8080/",
          "height": 531
        }
      },
      "source": [
        "plt.figure(figsize=(20,8))\n",
        "sns.heatmap(origin_mql, annot=True, fmt='g', cmap=\"YlGnBu\", linewidths=.5).set_title('Relação entre canal de origem e primeiro contatos dos MQLs por mês/ano (Junho de 2017 a Maio de 2018)')\n"
      ],
      "execution_count": 0,
      "outputs": [
        {
          "output_type": "execute_result",
          "data": {
            "text/plain": [
              "Text(0.5, 1, 'Relação entre canal de origem e primeiro contatos dos MQLs por mês/ano (Junho de 2017 a Maio de 2018)')"
            ]
          },
          "metadata": {
            "tags": []
          },
          "execution_count": 70
        },
        {
          "output_type": "display_data",
          "data": {
            "image/png": "[encoded data removed]",
            "text/plain": [
              "<Figure size 1440x576 with 2 Axes>"
            ]
          },
          "metadata": {
            "tags": []
          }
        }
      ]
    },
    {
      "cell_type": "code",
      "metadata": {
        "id": "-AFkqyDmry0N",
        "colab_type": "code",
        "colab": {}
      },
      "source": [
        "#encontrando o tempo em que os negócios foram fechados\n",
        "mql_cd.first_contact_date = pd.to_datetime(mql_cd.first_contact_date)\n",
        "mql_cd.won_date = pd.to_datetime(mql_cd.won_date)\n",
        "mql_cd['negocio_fechado'] = mql_cd.won_date-mql_cd.first_contact_date"
      ],
      "execution_count": 0,
      "outputs": []
    },
    {
      "cell_type": "code",
      "metadata": {
        "id": "Na-W_E-zuJ0d",
        "colab_type": "code",
        "outputId": "4bcbe7db-3b46-44e4-e83d-e588b25b6af5",
        "colab": {
          "base_uri": "https://localhost:8080/",
          "height": 258
        }
      },
      "source": [
        "mql_cd.head()\n"
      ],
      "execution_count": 0,
      "outputs": [
        {
          "output_type": "execute_result",
          "data": {
            "text/html": [
              "<div>\n",
              "<style scoped>\n",
              "    .dataframe tbody tr th:only-of-type {\n",
              "        vertical-align: middle;\n",
              "    }\n",
              "\n",
              "    .dataframe tbody tr th {\n",
              "        vertical-align: top;\n",
              "    }\n",
              "\n",
              "    .dataframe thead th {\n",
              "        text-align: right;\n",
              "    }\n",
              "</style>\n",
              "<table border=\"1\" class=\"dataframe\">\n",
              "  <thead>\n",
              "    <tr style=\"text-align: right;\">\n",
              "      <th></th>\n",
              "      <th>mql_id</th>\n",
              "      <th>first_contact_date</th>\n",
              "      <th>landing_page_id</th>\n",
              "      <th>origin</th>\n",
              "      <th>seller_id</th>\n",
              "      <th>sdr_id</th>\n",
              "      <th>sr_id</th>\n",
              "      <th>won_date</th>\n",
              "      <th>business_segment</th>\n",
              "      <th>lead_type</th>\n",
              "      <th>lead_behaviour_profile</th>\n",
              "      <th>has_company</th>\n",
              "      <th>has_gtin</th>\n",
              "      <th>average_stock</th>\n",
              "      <th>business_type</th>\n",
              "      <th>declared_product_catalog_size</th>\n",
              "      <th>declared_monthly_revenue</th>\n",
              "      <th>negocio_fechado</th>\n",
              "    </tr>\n",
              "  </thead>\n",
              "  <tbody>\n",
              "    <tr>\n",
              "      <th>0</th>\n",
              "      <td>dac32acd4db4c29c230538b72f8dd87d</td>\n",
              "      <td>2018-02-01</td>\n",
              "      <td>88740e65d5d6b056e0cda098e1ea6313</td>\n",
              "      <td>social</td>\n",
              "      <td>NaN</td>\n",
              "      <td>NaN</td>\n",
              "      <td>NaN</td>\n",
              "      <td>NaT</td>\n",
              "      <td>NaN</td>\n",
              "      <td>NaN</td>\n",
              "      <td>NaN</td>\n",
              "      <td>NaN</td>\n",
              "      <td>NaN</td>\n",
              "      <td>NaN</td>\n",
              "      <td>NaN</td>\n",
              "      <td>NaN</td>\n",
              "      <td>NaN</td>\n",
              "      <td>NaT</td>\n",
              "    </tr>\n",
              "    <tr>\n",
              "      <th>1</th>\n",
              "      <td>8c18d1de7f67e60dbd64e3c07d7e9d5d</td>\n",
              "      <td>2017-10-20</td>\n",
              "      <td>007f9098284a86ee80ddeb25d53e0af8</td>\n",
              "      <td>paid_search</td>\n",
              "      <td>NaN</td>\n",
              "      <td>NaN</td>\n",
              "      <td>NaN</td>\n",
              "      <td>NaT</td>\n",
              "      <td>NaN</td>\n",
              "      <td>NaN</td>\n",
              "      <td>NaN</td>\n",
              "      <td>NaN</td>\n",
              "      <td>NaN</td>\n",
              "      <td>NaN</td>\n",
              "      <td>NaN</td>\n",
              "      <td>NaN</td>\n",
              "      <td>NaN</td>\n",
              "      <td>NaT</td>\n",
              "    </tr>\n",
              "    <tr>\n",
              "      <th>2</th>\n",
              "      <td>b4bc852d233dfefc5131f593b538befa</td>\n",
              "      <td>2018-03-22</td>\n",
              "      <td>a7982125ff7aa3b2054c6e44f9d28522</td>\n",
              "      <td>organic_search</td>\n",
              "      <td>NaN</td>\n",
              "      <td>NaN</td>\n",
              "      <td>NaN</td>\n",
              "      <td>NaT</td>\n",
              "      <td>NaN</td>\n",
              "      <td>NaN</td>\n",
              "      <td>NaN</td>\n",
              "      <td>NaN</td>\n",
              "      <td>NaN</td>\n",
              "      <td>NaN</td>\n",
              "      <td>NaN</td>\n",
              "      <td>NaN</td>\n",
              "      <td>NaN</td>\n",
              "      <td>NaT</td>\n",
              "    </tr>\n",
              "    <tr>\n",
              "      <th>3</th>\n",
              "      <td>6be030b81c75970747525b843c1ef4f8</td>\n",
              "      <td>2018-01-22</td>\n",
              "      <td>d45d558f0daeecf3cccdffe3c59684aa</td>\n",
              "      <td>email</td>\n",
              "      <td>NaN</td>\n",
              "      <td>NaN</td>\n",
              "      <td>NaN</td>\n",
              "      <td>NaT</td>\n",
              "      <td>NaN</td>\n",
              "      <td>NaN</td>\n",
              "      <td>NaN</td>\n",
              "      <td>NaN</td>\n",
              "      <td>NaN</td>\n",
              "      <td>NaN</td>\n",
              "      <td>NaN</td>\n",
              "      <td>NaN</td>\n",
              "      <td>NaN</td>\n",
              "      <td>NaT</td>\n",
              "    </tr>\n",
              "    <tr>\n",
              "      <th>4</th>\n",
              "      <td>5420aad7fec3549a85876ba1c529bd84</td>\n",
              "      <td>2018-02-21</td>\n",
              "      <td>b48ec5f3b04e9068441002a19df93c6c</td>\n",
              "      <td>organic_search</td>\n",
              "      <td>2c43fb513632d29b3b58df74816f1b06</td>\n",
              "      <td>a8387c01a09e99ce014107505b92388c</td>\n",
              "      <td>4ef15afb4b2723d8f3d81e51ec7afefe</td>\n",
              "      <td>2018-02-26 19:58:54</td>\n",
              "      <td>pet</td>\n",
              "      <td>online_medium</td>\n",
              "      <td>cat</td>\n",
              "      <td>NaN</td>\n",
              "      <td>NaN</td>\n",
              "      <td>NaN</td>\n",
              "      <td>reseller</td>\n",
              "      <td>NaN</td>\n",
              "      <td>0.0</td>\n",
              "      <td>5 days 19:58:54</td>\n",
              "    </tr>\n",
              "  </tbody>\n",
              "</table>\n",
              "</div>"
            ],
            "text/plain": [
              "                             mql_id  ... negocio_fechado\n",
              "0  dac32acd4db4c29c230538b72f8dd87d  ...             NaT\n",
              "1  8c18d1de7f67e60dbd64e3c07d7e9d5d  ...             NaT\n",
              "2  b4bc852d233dfefc5131f593b538befa  ...             NaT\n",
              "3  6be030b81c75970747525b843c1ef4f8  ...             NaT\n",
              "4  5420aad7fec3549a85876ba1c529bd84  ... 5 days 19:58:54\n",
              "\n",
              "[5 rows x 18 columns]"
            ]
          },
          "metadata": {
            "tags": []
          },
          "execution_count": 19
        }
      ]
    },
    {
      "cell_type": "code",
      "metadata": {
        "id": "RMmVOV53uVKs",
        "colab_type": "code",
        "colab": {}
      },
      "source": [
        "mql_cd = mql_cd.drop(667)\n"
      ],
      "execution_count": 0,
      "outputs": []
    },
    {
      "cell_type": "code",
      "metadata": {
        "id": "7KHaM-JAusat",
        "colab_type": "code",
        "colab": {}
      },
      "source": [
        "mql_cd_new = mql_cd.drop(['has_company','has_gtin','average_stock','declared_product_catalog_size'], axis = 1) \n",
        "\n",
        "#filling the rest NAs\n",
        "columns = ['lead_behaviour_profile','origin','business_segment','lead_type','business_type']\n",
        "mql_cd_new[columns] = mql_cd_new[columns].fillna('unknown')"
      ],
      "execution_count": 0,
      "outputs": []
    },
    {
      "cell_type": "code",
      "metadata": {
        "id": "NRQQMGMhvGJb",
        "colab_type": "code",
        "outputId": "e8febf27-c03c-4037-f94e-0a70159af95b",
        "colab": {
          "base_uri": "https://localhost:8080/",
          "height": 258
        }
      },
      "source": [
        "mql_cd_new.head()"
      ],
      "execution_count": 0,
      "outputs": [
        {
          "output_type": "execute_result",
          "data": {
            "text/html": [
              "<div>\n",
              "<style scoped>\n",
              "    .dataframe tbody tr th:only-of-type {\n",
              "        vertical-align: middle;\n",
              "    }\n",
              "\n",
              "    .dataframe tbody tr th {\n",
              "        vertical-align: top;\n",
              "    }\n",
              "\n",
              "    .dataframe thead th {\n",
              "        text-align: right;\n",
              "    }\n",
              "</style>\n",
              "<table border=\"1\" class=\"dataframe\">\n",
              "  <thead>\n",
              "    <tr style=\"text-align: right;\">\n",
              "      <th></th>\n",
              "      <th>mql_id</th>\n",
              "      <th>first_contact_date</th>\n",
              "      <th>landing_page_id</th>\n",
              "      <th>origin</th>\n",
              "      <th>seller_id</th>\n",
              "      <th>sdr_id</th>\n",
              "      <th>sr_id</th>\n",
              "      <th>won_date</th>\n",
              "      <th>business_segment</th>\n",
              "      <th>lead_type</th>\n",
              "      <th>lead_behaviour_profile</th>\n",
              "      <th>business_type</th>\n",
              "      <th>declared_monthly_revenue</th>\n",
              "      <th>negocio_fechado</th>\n",
              "    </tr>\n",
              "  </thead>\n",
              "  <tbody>\n",
              "    <tr>\n",
              "      <th>0</th>\n",
              "      <td>dac32acd4db4c29c230538b72f8dd87d</td>\n",
              "      <td>2018-02-01</td>\n",
              "      <td>88740e65d5d6b056e0cda098e1ea6313</td>\n",
              "      <td>social</td>\n",
              "      <td>NaN</td>\n",
              "      <td>NaN</td>\n",
              "      <td>NaN</td>\n",
              "      <td>NaT</td>\n",
              "      <td>unknown</td>\n",
              "      <td>unknown</td>\n",
              "      <td>unknown</td>\n",
              "      <td>unknown</td>\n",
              "      <td>NaN</td>\n",
              "      <td>NaT</td>\n",
              "    </tr>\n",
              "    <tr>\n",
              "      <th>1</th>\n",
              "      <td>8c18d1de7f67e60dbd64e3c07d7e9d5d</td>\n",
              "      <td>2017-10-20</td>\n",
              "      <td>007f9098284a86ee80ddeb25d53e0af8</td>\n",
              "      <td>paid_search</td>\n",
              "      <td>NaN</td>\n",
              "      <td>NaN</td>\n",
              "      <td>NaN</td>\n",
              "      <td>NaT</td>\n",
              "      <td>unknown</td>\n",
              "      <td>unknown</td>\n",
              "      <td>unknown</td>\n",
              "      <td>unknown</td>\n",
              "      <td>NaN</td>\n",
              "      <td>NaT</td>\n",
              "    </tr>\n",
              "    <tr>\n",
              "      <th>2</th>\n",
              "      <td>b4bc852d233dfefc5131f593b538befa</td>\n",
              "      <td>2018-03-22</td>\n",
              "      <td>a7982125ff7aa3b2054c6e44f9d28522</td>\n",
              "      <td>organic_search</td>\n",
              "      <td>NaN</td>\n",
              "      <td>NaN</td>\n",
              "      <td>NaN</td>\n",
              "      <td>NaT</td>\n",
              "      <td>unknown</td>\n",
              "      <td>unknown</td>\n",
              "      <td>unknown</td>\n",
              "      <td>unknown</td>\n",
              "      <td>NaN</td>\n",
              "      <td>NaT</td>\n",
              "    </tr>\n",
              "    <tr>\n",
              "      <th>3</th>\n",
              "      <td>6be030b81c75970747525b843c1ef4f8</td>\n",
              "      <td>2018-01-22</td>\n",
              "      <td>d45d558f0daeecf3cccdffe3c59684aa</td>\n",
              "      <td>email</td>\n",
              "      <td>NaN</td>\n",
              "      <td>NaN</td>\n",
              "      <td>NaN</td>\n",
              "      <td>NaT</td>\n",
              "      <td>unknown</td>\n",
              "      <td>unknown</td>\n",
              "      <td>unknown</td>\n",
              "      <td>unknown</td>\n",
              "      <td>NaN</td>\n",
              "      <td>NaT</td>\n",
              "    </tr>\n",
              "    <tr>\n",
              "      <th>4</th>\n",
              "      <td>5420aad7fec3549a85876ba1c529bd84</td>\n",
              "      <td>2018-02-21</td>\n",
              "      <td>b48ec5f3b04e9068441002a19df93c6c</td>\n",
              "      <td>organic_search</td>\n",
              "      <td>2c43fb513632d29b3b58df74816f1b06</td>\n",
              "      <td>a8387c01a09e99ce014107505b92388c</td>\n",
              "      <td>4ef15afb4b2723d8f3d81e51ec7afefe</td>\n",
              "      <td>2018-02-26 19:58:54</td>\n",
              "      <td>pet</td>\n",
              "      <td>online_medium</td>\n",
              "      <td>cat</td>\n",
              "      <td>reseller</td>\n",
              "      <td>0.0</td>\n",
              "      <td>5 days 19:58:54</td>\n",
              "    </tr>\n",
              "  </tbody>\n",
              "</table>\n",
              "</div>"
            ],
            "text/plain": [
              "                             mql_id  ... negocio_fechado\n",
              "0  dac32acd4db4c29c230538b72f8dd87d  ...             NaT\n",
              "1  8c18d1de7f67e60dbd64e3c07d7e9d5d  ...             NaT\n",
              "2  b4bc852d233dfefc5131f593b538befa  ...             NaT\n",
              "3  6be030b81c75970747525b843c1ef4f8  ...             NaT\n",
              "4  5420aad7fec3549a85876ba1c529bd84  ... 5 days 19:58:54\n",
              "\n",
              "[5 rows x 14 columns]"
            ]
          },
          "metadata": {
            "tags": []
          },
          "execution_count": 22
        }
      ]
    },
    {
      "cell_type": "code",
      "metadata": {
        "id": "8jKBdxHBEMuC",
        "colab_type": "code",
        "colab": {}
      },
      "source": [
        "mql_cd_new['negocio_fechado'] = mql_cd_new['negocio_fechado'].astype('timedelta64[h]') / 24"
      ],
      "execution_count": 0,
      "outputs": []
    },
    {
      "cell_type": "code",
      "metadata": {
        "id": "PMiMPp7Vwf5M",
        "colab_type": "code",
        "outputId": "b8ac11f1-40b7-4c70-bfa7-27ba8e392b39",
        "colab": {
          "base_uri": "https://localhost:8080/",
          "height": 390
        }
      },
      "source": [
        "mql_cd_new['won_date'] = mql_cd_new['won_date'].dt.to_period('M')\n",
        "\n",
        "new = pd.pivot_table(mql_cd_new,\n",
        "                            index='lead_behaviour_profile',\n",
        "                            columns='won_date',\n",
        "                            values='mql_id',                            \n",
        "                            aggfunc='count',\n",
        "                            fill_value=0)\n",
        "\n",
        "new2 = mql_cd_new.groupby('lead_behaviour_profile').mql_id \\\n",
        "                                   .count() \\\n",
        "                                   .sort_values(ascending=False) \\\n",
        "                                   .index\n",
        "\n",
        "new_new = new.reindex(new2)\n",
        "new_new\n",
        "\n",
        "\n"
      ],
      "execution_count": 0,
      "outputs": [
        {
          "output_type": "execute_result",
          "data": {
            "text/html": [
              "<div>\n",
              "<style scoped>\n",
              "    .dataframe tbody tr th:only-of-type {\n",
              "        vertical-align: middle;\n",
              "    }\n",
              "\n",
              "    .dataframe tbody tr th {\n",
              "        vertical-align: top;\n",
              "    }\n",
              "\n",
              "    .dataframe thead th {\n",
              "        text-align: right;\n",
              "    }\n",
              "</style>\n",
              "<table border=\"1\" class=\"dataframe\">\n",
              "  <thead>\n",
              "    <tr style=\"text-align: right;\">\n",
              "      <th>won_date</th>\n",
              "      <th>2017-12</th>\n",
              "      <th>2018-01</th>\n",
              "      <th>2018-02</th>\n",
              "      <th>2018-03</th>\n",
              "      <th>2018-04</th>\n",
              "      <th>2018-05</th>\n",
              "      <th>2018-06</th>\n",
              "      <th>2018-07</th>\n",
              "      <th>2018-08</th>\n",
              "      <th>2018-09</th>\n",
              "      <th>2018-10</th>\n",
              "      <th>2018-11</th>\n",
              "    </tr>\n",
              "    <tr>\n",
              "      <th>lead_behaviour_profile</th>\n",
              "      <th></th>\n",
              "      <th></th>\n",
              "      <th></th>\n",
              "      <th></th>\n",
              "      <th></th>\n",
              "      <th></th>\n",
              "      <th></th>\n",
              "      <th></th>\n",
              "      <th></th>\n",
              "      <th></th>\n",
              "      <th></th>\n",
              "      <th></th>\n",
              "    </tr>\n",
              "  </thead>\n",
              "  <tbody>\n",
              "    <tr>\n",
              "      <th>unknown</th>\n",
              "      <td>3</td>\n",
              "      <td>73</td>\n",
              "      <td>61</td>\n",
              "      <td>16</td>\n",
              "      <td>9</td>\n",
              "      <td>4</td>\n",
              "      <td>4</td>\n",
              "      <td>3</td>\n",
              "      <td>3</td>\n",
              "      <td>0</td>\n",
              "      <td>1</td>\n",
              "      <td>0</td>\n",
              "    </tr>\n",
              "    <tr>\n",
              "      <th>cat</th>\n",
              "      <td>0</td>\n",
              "      <td>0</td>\n",
              "      <td>34</td>\n",
              "      <td>78</td>\n",
              "      <td>138</td>\n",
              "      <td>74</td>\n",
              "      <td>28</td>\n",
              "      <td>19</td>\n",
              "      <td>17</td>\n",
              "      <td>9</td>\n",
              "      <td>7</td>\n",
              "      <td>3</td>\n",
              "    </tr>\n",
              "    <tr>\n",
              "      <th>eagle</th>\n",
              "      <td>0</td>\n",
              "      <td>0</td>\n",
              "      <td>9</td>\n",
              "      <td>28</td>\n",
              "      <td>34</td>\n",
              "      <td>30</td>\n",
              "      <td>7</td>\n",
              "      <td>7</td>\n",
              "      <td>1</td>\n",
              "      <td>2</td>\n",
              "      <td>4</td>\n",
              "      <td>1</td>\n",
              "    </tr>\n",
              "    <tr>\n",
              "      <th>wolf</th>\n",
              "      <td>0</td>\n",
              "      <td>0</td>\n",
              "      <td>9</td>\n",
              "      <td>19</td>\n",
              "      <td>19</td>\n",
              "      <td>12</td>\n",
              "      <td>12</td>\n",
              "      <td>7</td>\n",
              "      <td>4</td>\n",
              "      <td>7</td>\n",
              "      <td>6</td>\n",
              "      <td>0</td>\n",
              "    </tr>\n",
              "    <tr>\n",
              "      <th>shark</th>\n",
              "      <td>0</td>\n",
              "      <td>0</td>\n",
              "      <td>0</td>\n",
              "      <td>6</td>\n",
              "      <td>7</td>\n",
              "      <td>2</td>\n",
              "      <td>3</td>\n",
              "      <td>0</td>\n",
              "      <td>3</td>\n",
              "      <td>2</td>\n",
              "      <td>1</td>\n",
              "      <td>0</td>\n",
              "    </tr>\n",
              "    <tr>\n",
              "      <th>cat, wolf</th>\n",
              "      <td>0</td>\n",
              "      <td>0</td>\n",
              "      <td>0</td>\n",
              "      <td>0</td>\n",
              "      <td>0</td>\n",
              "      <td>0</td>\n",
              "      <td>1</td>\n",
              "      <td>1</td>\n",
              "      <td>2</td>\n",
              "      <td>3</td>\n",
              "      <td>0</td>\n",
              "      <td>1</td>\n",
              "    </tr>\n",
              "    <tr>\n",
              "      <th>eagle, wolf</th>\n",
              "      <td>0</td>\n",
              "      <td>0</td>\n",
              "      <td>0</td>\n",
              "      <td>0</td>\n",
              "      <td>0</td>\n",
              "      <td>0</td>\n",
              "      <td>1</td>\n",
              "      <td>0</td>\n",
              "      <td>1</td>\n",
              "      <td>0</td>\n",
              "      <td>0</td>\n",
              "      <td>1</td>\n",
              "    </tr>\n",
              "    <tr>\n",
              "      <th>eagle, cat</th>\n",
              "      <td>0</td>\n",
              "      <td>0</td>\n",
              "      <td>0</td>\n",
              "      <td>0</td>\n",
              "      <td>0</td>\n",
              "      <td>0</td>\n",
              "      <td>1</td>\n",
              "      <td>0</td>\n",
              "      <td>1</td>\n",
              "      <td>0</td>\n",
              "      <td>1</td>\n",
              "      <td>0</td>\n",
              "    </tr>\n",
              "    <tr>\n",
              "      <th>shark, wolf</th>\n",
              "      <td>0</td>\n",
              "      <td>0</td>\n",
              "      <td>0</td>\n",
              "      <td>0</td>\n",
              "      <td>0</td>\n",
              "      <td>0</td>\n",
              "      <td>0</td>\n",
              "      <td>0</td>\n",
              "      <td>1</td>\n",
              "      <td>0</td>\n",
              "      <td>0</td>\n",
              "      <td>0</td>\n",
              "    </tr>\n",
              "    <tr>\n",
              "      <th>shark, cat</th>\n",
              "      <td>0</td>\n",
              "      <td>0</td>\n",
              "      <td>0</td>\n",
              "      <td>0</td>\n",
              "      <td>0</td>\n",
              "      <td>0</td>\n",
              "      <td>0</td>\n",
              "      <td>0</td>\n",
              "      <td>0</td>\n",
              "      <td>0</td>\n",
              "      <td>1</td>\n",
              "      <td>0</td>\n",
              "    </tr>\n",
              "  </tbody>\n",
              "</table>\n",
              "</div>"
            ],
            "text/plain": [
              "won_date                2017-12  2018-01  2018-02  ...  2018-09  2018-10  2018-11\n",
              "lead_behaviour_profile                             ...                           \n",
              "unknown                       3       73       61  ...        0        1        0\n",
              "cat                           0        0       34  ...        9        7        3\n",
              "eagle                         0        0        9  ...        2        4        1\n",
              "wolf                          0        0        9  ...        7        6        0\n",
              "shark                         0        0        0  ...        2        1        0\n",
              "cat, wolf                     0        0        0  ...        3        0        1\n",
              "eagle, wolf                   0        0        0  ...        0        0        1\n",
              "eagle, cat                    0        0        0  ...        0        1        0\n",
              "shark, wolf                   0        0        0  ...        0        0        0\n",
              "shark, cat                    0        0        0  ...        0        1        0\n",
              "\n",
              "[10 rows x 12 columns]"
            ]
          },
          "metadata": {
            "tags": []
          },
          "execution_count": 24
        }
      ]
    },
    {
      "cell_type": "markdown",
      "metadata": {
        "id": "2ij6ouaonuA6",
        "colab_type": "text"
      },
      "source": [
        "Heatmap: Data de fechamento de negócios, MQLs e perfil de comportamento de leads "
      ]
    },
    {
      "cell_type": "code",
      "metadata": {
        "id": "P9uYnsSz2WFZ",
        "colab_type": "code",
        "outputId": "f209907d-88ff-4282-e60f-96853824d449",
        "colab": {
          "base_uri": "https://localhost:8080/",
          "height": 515
        }
      },
      "source": [
        "plt.figure(figsize=(20,8))\n",
        "sns.heatmap(new_new, annot=True, fmt='g', cmap=\"coolwarm\")"
      ],
      "execution_count": 0,
      "outputs": [
        {
          "output_type": "execute_result",
          "data": {
            "text/plain": [
              "<matplotlib.axes._subplots.AxesSubplot at 0x7f9b168b6358>"
            ]
          },
          "metadata": {
            "tags": []
          },
          "execution_count": 25
        },
        {
          "output_type": "display_data",
          "data": {
            "image/png": "[encoded data removed]",
            "text/plain": [
              "<Figure size 1440x576 with 2 Axes>"
            ]
          },
          "metadata": {
            "tags": []
          }
        }
      ]
    },
    {
      "cell_type": "code",
      "metadata": {
        "id": "0CbU79lhe9At",
        "colab_type": "code",
        "outputId": "8f6206ad-4d1c-40b0-bcf4-86d9a74559e9",
        "colab": {
          "base_uri": "https://localhost:8080/",
          "height": 204
        }
      },
      "source": [
        "mql_cd['seller_id(bool)'] = mql_cd['seller_id'].notna()\n",
        "\n",
        "mql_cd[['seller_id', 'seller_id(bool)']].head()"
      ],
      "execution_count": 0,
      "outputs": [
        {
          "output_type": "execute_result",
          "data": {
            "text/html": [
              "<div>\n",
              "<style scoped>\n",
              "    .dataframe tbody tr th:only-of-type {\n",
              "        vertical-align: middle;\n",
              "    }\n",
              "\n",
              "    .dataframe tbody tr th {\n",
              "        vertical-align: top;\n",
              "    }\n",
              "\n",
              "    .dataframe thead th {\n",
              "        text-align: right;\n",
              "    }\n",
              "</style>\n",
              "<table border=\"1\" class=\"dataframe\">\n",
              "  <thead>\n",
              "    <tr style=\"text-align: right;\">\n",
              "      <th></th>\n",
              "      <th>seller_id</th>\n",
              "      <th>seller_id(bool)</th>\n",
              "    </tr>\n",
              "  </thead>\n",
              "  <tbody>\n",
              "    <tr>\n",
              "      <th>0</th>\n",
              "      <td>NaN</td>\n",
              "      <td>False</td>\n",
              "    </tr>\n",
              "    <tr>\n",
              "      <th>1</th>\n",
              "      <td>NaN</td>\n",
              "      <td>False</td>\n",
              "    </tr>\n",
              "    <tr>\n",
              "      <th>2</th>\n",
              "      <td>NaN</td>\n",
              "      <td>False</td>\n",
              "    </tr>\n",
              "    <tr>\n",
              "      <th>3</th>\n",
              "      <td>NaN</td>\n",
              "      <td>False</td>\n",
              "    </tr>\n",
              "    <tr>\n",
              "      <th>4</th>\n",
              "      <td>2c43fb513632d29b3b58df74816f1b06</td>\n",
              "      <td>True</td>\n",
              "    </tr>\n",
              "  </tbody>\n",
              "</table>\n",
              "</div>"
            ],
            "text/plain": [
              "                          seller_id  seller_id(bool)\n",
              "0                               NaN            False\n",
              "1                               NaN            False\n",
              "2                               NaN            False\n",
              "3                               NaN            False\n",
              "4  2c43fb513632d29b3b58df74816f1b06             True"
            ]
          },
          "metadata": {
            "tags": []
          },
          "execution_count": 26
        }
      ]
    },
    {
      "cell_type": "code",
      "metadata": {
        "id": "tBzNIyy-fnqr",
        "colab_type": "code",
        "colab": {}
      },
      "source": [
        "mql_cd['first_contact_date(y-m)'] = mql_cd['first_contact_date'].dt.to_period('M')\n"
      ],
      "execution_count": 0,
      "outputs": []
    },
    {
      "cell_type": "code",
      "metadata": {
        "id": "bUtN9grNgXzD",
        "colab_type": "code",
        "outputId": "7caa959d-df6c-45f7-8e49-13ca2868cf53",
        "colab": {
          "base_uri": "https://localhost:8080/",
          "height": 434
        }
      },
      "source": [
        "mes_cd = mql_cd.groupby('first_contact_date(y-m)')['seller_id(bool)'].sum()\n",
        "mes_cd.plot.line(figsize=(12, 6),  color='0.75')\n",
        "plt.title('Negócios fechados entre junho de 2017 e maio de 2018')"
      ],
      "execution_count": 0,
      "outputs": [
        {
          "output_type": "execute_result",
          "data": {
            "text/plain": [
              "Text(0.5, 1.0, 'Negócios fechados entre junho de 2017 e maio de 2018')"
            ]
          },
          "metadata": {
            "tags": []
          },
          "execution_count": 28
        },
        {
          "output_type": "display_data",
          "data": {
            "image/png": "[encoded data removed]",
            "text/plain": [
              "<Figure size 864x432 with 1 Axes>"
            ]
          },
          "metadata": {
            "tags": []
          }
        }
      ]
    },
    {
      "cell_type": "code",
      "metadata": {
        "id": "8noon2Grjrj8",
        "colab_type": "code",
        "outputId": "e67df798-ff3f-4b8f-fe2b-d9a037baf92d",
        "colab": {
          "base_uri": "https://localhost:8080/",
          "height": 408
        }
      },
      "source": [
        "mql_cd['sr_id'].value_counts()"
      ],
      "execution_count": 0,
      "outputs": [
        {
          "output_type": "execute_result",
          "data": {
            "text/plain": [
              "4ef15afb4b2723d8f3d81e51ec7afefe    133\n",
              "d3d1e91a157ea7f90548eef82f1955e3     82\n",
              "6565aa9ce3178a5caf6171827af3a9ba     74\n",
              "85fc447d336637ba1df43e793199fbc8     64\n",
              "495d4e95a8cf8bbf8b432b612a2aa328     63\n",
              "fbf4aef3f6915dc0c3c97d6812522f6a     59\n",
              "2695de1affa7750089c0455f8ce27021     59\n",
              "de63de0d10a6012430098db33c679b0b     53\n",
              "9ae085775a198122c5586fa830ff7f2b     51\n",
              "c638112b43f1d1b86dcabb0da720c901     36\n",
              "060c0a26f19f4d66b42e0d8796688490     32\n",
              "068066e24f0c643eb1d089c7dd20cd73     27\n",
              "a8387c01a09e99ce014107505b92388c     26\n",
              "9e4d1098a3b0f5da39b0bc48f9876645     24\n",
              "56bf83c4bb35763a51c2baab501b4c67     24\n",
              "34d40cdaf94010a1d05b0d6212f9e909     10\n",
              "4b339f9567d060bcea4f5136b9f5949e      9\n",
              "9749123c950bf8363ace42cb1c2d0815      7\n",
              "9d12ef1a7eca3ec58c545c678af7869c      6\n",
              "0a0fb2b07d841f84fb6714e35c723075      1\n",
              "b90f87164b5f8c2cfa5c8572834dbe3f      1\n",
              "6aa3b86a83d784b05f0e37e26b20860d      1\n",
              "Name: sr_id, dtype: int64"
            ]
          },
          "metadata": {
            "tags": []
          },
          "execution_count": 29
        }
      ]
    },
    {
      "cell_type": "markdown",
      "metadata": {
        "id": "j6DQfK4Ep8ZS",
        "colab_type": "text"
      },
      "source": [
        "SDRs e SRs x perfis de comportamento dos leads\n",
        "\n",
        "## SR/SDR Otimização de vendas:\n",
        "**Quais SDRs e SRs devem falar com cada tipo de lead, de acordo com a personalidade?**"
      ]
    },
    {
      "cell_type": "code",
      "metadata": {
        "id": "lm2K4BryoA7I",
        "colab_type": "code",
        "outputId": "62e3cce4-07c0-4f1a-a05d-274facc9b184",
        "colab": {
          "base_uri": "https://localhost:8080/",
          "height": 433
        }
      },
      "source": [
        "# Tabela de SDRs\n",
        "mql_cd = mql_cd[mql_cd['lead_behaviour_profile'].notna()].copy()\n",
        "sdr = mql_cd['sdr_id'].value_counts().index\n",
        "lbp = mql_cd['lead_behaviour_profile'].value_counts().index\n",
        "\n",
        "lbp_sdr = pd.pivot_table(mql_cd,\n",
        "                             index='lead_behaviour_profile',\n",
        "                             columns='sdr_id',\n",
        "                             values='seller_id',\n",
        "                             aggfunc='count',\n",
        "                             fill_value=0)\n",
        "\n",
        "lbp_sdr = lbp_sdr.reindex(lbp)[sdr]\n",
        "lbp_sdr\n"
      ],
      "execution_count": 0,
      "outputs": [
        {
          "output_type": "execute_result",
          "data": {
            "text/html": [
              "<div>\n",
              "<style scoped>\n",
              "    .dataframe tbody tr th:only-of-type {\n",
              "        vertical-align: middle;\n",
              "    }\n",
              "\n",
              "    .dataframe tbody tr th {\n",
              "        vertical-align: top;\n",
              "    }\n",
              "\n",
              "    .dataframe thead th {\n",
              "        text-align: right;\n",
              "    }\n",
              "</style>\n",
              "<table border=\"1\" class=\"dataframe\">\n",
              "  <thead>\n",
              "    <tr style=\"text-align: right;\">\n",
              "      <th>sdr_id</th>\n",
              "      <th>4b339f9567d060bcea4f5136b9f5949e</th>\n",
              "      <th>9d12ef1a7eca3ec58c545c678af7869c</th>\n",
              "      <th>a8387c01a09e99ce014107505b92388c</th>\n",
              "      <th>9e4d1098a3b0f5da39b0bc48f9876645</th>\n",
              "      <th>068066e24f0c643eb1d089c7dd20cd73</th>\n",
              "      <th>370c9f455f93a9a96cbe9bea48e70033</th>\n",
              "      <th>f42a2bd194f7802ab052a815c8de65b7</th>\n",
              "      <th>09285259593c61296eef10c734121d5b</th>\n",
              "      <th>34d40cdaf94010a1d05b0d6212f9e909</th>\n",
              "      <th>56bf83c4bb35763a51c2baab501b4c67</th>\n",
              "      <th>b90f87164b5f8c2cfa5c8572834dbe3f</th>\n",
              "      <th>0a0fb2b07d841f84fb6714e35c723075</th>\n",
              "      <th>de63de0d10a6012430098db33c679b0b</th>\n",
              "      <th>e7dff61b78bebffa71678e126ce669ad</th>\n",
              "      <th>45749fb708130f78d0db07d8d80f030b</th>\n",
              "      <th>fdb16d3cbbeb5798f2f66c4096be026d</th>\n",
              "      <th>9749123c950bf8363ace42cb1c2d0815</th>\n",
              "      <th>2b63542749aa9caf15f21816da1db341</th>\n",
              "      <th>323cff2ceea1814239bc2c7e614d260d</th>\n",
              "      <th>33dd30594303eb0ebe12a556d612c437</th>\n",
              "      <th>b34f6eba10f46bf9a657a01c108a8284</th>\n",
              "      <th>0cdad77786224a7cefea567b8c75c3c1</th>\n",
              "      <th>6aa3b86a83d784b05f0e37e26b20860d</th>\n",
              "      <th>19f3cd308f1455b3fa09a282e0d496f4</th>\n",
              "      <th>282f16e20d50cb18d05182e80f6b9dd6</th>\n",
              "      <th>084b6fbb10729ed4da8c3d3f5a3ae7c9</th>\n",
              "      <th>5b7ce8c2b0fe4c2f52a0763046914ef4</th>\n",
              "      <th>e4a6222cdb5b34375400904f03d8e6a5</th>\n",
              "      <th>b1b3ec93fc27a19fdb1c1b1fc997776a</th>\n",
              "    </tr>\n",
              "  </thead>\n",
              "  <tbody>\n",
              "    <tr>\n",
              "      <th>cat</th>\n",
              "      <td>52</td>\n",
              "      <td>35</td>\n",
              "      <td>50</td>\n",
              "      <td>37</td>\n",
              "      <td>43</td>\n",
              "      <td>26</td>\n",
              "      <td>23</td>\n",
              "      <td>25</td>\n",
              "      <td>30</td>\n",
              "      <td>24</td>\n",
              "      <td>15</td>\n",
              "      <td>10</td>\n",
              "      <td>8</td>\n",
              "      <td>4</td>\n",
              "      <td>3</td>\n",
              "      <td>5</td>\n",
              "      <td>3</td>\n",
              "      <td>2</td>\n",
              "      <td>2</td>\n",
              "      <td>3</td>\n",
              "      <td>1</td>\n",
              "      <td>2</td>\n",
              "      <td>1</td>\n",
              "      <td>1</td>\n",
              "      <td>0</td>\n",
              "      <td>1</td>\n",
              "      <td>1</td>\n",
              "      <td>0</td>\n",
              "      <td>0</td>\n",
              "    </tr>\n",
              "    <tr>\n",
              "      <th>eagle</th>\n",
              "      <td>9</td>\n",
              "      <td>22</td>\n",
              "      <td>4</td>\n",
              "      <td>10</td>\n",
              "      <td>3</td>\n",
              "      <td>14</td>\n",
              "      <td>7</td>\n",
              "      <td>8</td>\n",
              "      <td>8</td>\n",
              "      <td>16</td>\n",
              "      <td>4</td>\n",
              "      <td>12</td>\n",
              "      <td>2</td>\n",
              "      <td>2</td>\n",
              "      <td>0</td>\n",
              "      <td>1</td>\n",
              "      <td>1</td>\n",
              "      <td>0</td>\n",
              "      <td>0</td>\n",
              "      <td>0</td>\n",
              "      <td>0</td>\n",
              "      <td>0</td>\n",
              "      <td>0</td>\n",
              "      <td>0</td>\n",
              "      <td>0</td>\n",
              "      <td>0</td>\n",
              "      <td>0</td>\n",
              "      <td>0</td>\n",
              "      <td>0</td>\n",
              "    </tr>\n",
              "    <tr>\n",
              "      <th>wolf</th>\n",
              "      <td>42</td>\n",
              "      <td>6</td>\n",
              "      <td>3</td>\n",
              "      <td>3</td>\n",
              "      <td>3</td>\n",
              "      <td>7</td>\n",
              "      <td>7</td>\n",
              "      <td>7</td>\n",
              "      <td>1</td>\n",
              "      <td>0</td>\n",
              "      <td>3</td>\n",
              "      <td>1</td>\n",
              "      <td>2</td>\n",
              "      <td>2</td>\n",
              "      <td>3</td>\n",
              "      <td>1</td>\n",
              "      <td>1</td>\n",
              "      <td>1</td>\n",
              "      <td>1</td>\n",
              "      <td>0</td>\n",
              "      <td>0</td>\n",
              "      <td>0</td>\n",
              "      <td>0</td>\n",
              "      <td>0</td>\n",
              "      <td>1</td>\n",
              "      <td>0</td>\n",
              "      <td>0</td>\n",
              "      <td>0</td>\n",
              "      <td>0</td>\n",
              "    </tr>\n",
              "    <tr>\n",
              "      <th>shark</th>\n",
              "      <td>8</td>\n",
              "      <td>0</td>\n",
              "      <td>0</td>\n",
              "      <td>3</td>\n",
              "      <td>2</td>\n",
              "      <td>2</td>\n",
              "      <td>1</td>\n",
              "      <td>2</td>\n",
              "      <td>2</td>\n",
              "      <td>0</td>\n",
              "      <td>0</td>\n",
              "      <td>1</td>\n",
              "      <td>0</td>\n",
              "      <td>1</td>\n",
              "      <td>0</td>\n",
              "      <td>0</td>\n",
              "      <td>0</td>\n",
              "      <td>0</td>\n",
              "      <td>0</td>\n",
              "      <td>0</td>\n",
              "      <td>1</td>\n",
              "      <td>0</td>\n",
              "      <td>1</td>\n",
              "      <td>0</td>\n",
              "      <td>0</td>\n",
              "      <td>0</td>\n",
              "      <td>0</td>\n",
              "      <td>0</td>\n",
              "      <td>0</td>\n",
              "    </tr>\n",
              "    <tr>\n",
              "      <th>cat, wolf</th>\n",
              "      <td>1</td>\n",
              "      <td>0</td>\n",
              "      <td>0</td>\n",
              "      <td>0</td>\n",
              "      <td>0</td>\n",
              "      <td>1</td>\n",
              "      <td>1</td>\n",
              "      <td>0</td>\n",
              "      <td>0</td>\n",
              "      <td>0</td>\n",
              "      <td>1</td>\n",
              "      <td>0</td>\n",
              "      <td>0</td>\n",
              "      <td>0</td>\n",
              "      <td>2</td>\n",
              "      <td>0</td>\n",
              "      <td>1</td>\n",
              "      <td>0</td>\n",
              "      <td>0</td>\n",
              "      <td>0</td>\n",
              "      <td>0</td>\n",
              "      <td>0</td>\n",
              "      <td>0</td>\n",
              "      <td>0</td>\n",
              "      <td>0</td>\n",
              "      <td>0</td>\n",
              "      <td>0</td>\n",
              "      <td>0</td>\n",
              "      <td>1</td>\n",
              "    </tr>\n",
              "    <tr>\n",
              "      <th>eagle, wolf</th>\n",
              "      <td>0</td>\n",
              "      <td>1</td>\n",
              "      <td>0</td>\n",
              "      <td>0</td>\n",
              "      <td>0</td>\n",
              "      <td>0</td>\n",
              "      <td>0</td>\n",
              "      <td>0</td>\n",
              "      <td>0</td>\n",
              "      <td>0</td>\n",
              "      <td>0</td>\n",
              "      <td>0</td>\n",
              "      <td>0</td>\n",
              "      <td>1</td>\n",
              "      <td>0</td>\n",
              "      <td>0</td>\n",
              "      <td>0</td>\n",
              "      <td>0</td>\n",
              "      <td>0</td>\n",
              "      <td>0</td>\n",
              "      <td>0</td>\n",
              "      <td>0</td>\n",
              "      <td>0</td>\n",
              "      <td>0</td>\n",
              "      <td>0</td>\n",
              "      <td>0</td>\n",
              "      <td>0</td>\n",
              "      <td>1</td>\n",
              "      <td>0</td>\n",
              "    </tr>\n",
              "    <tr>\n",
              "      <th>eagle, cat</th>\n",
              "      <td>0</td>\n",
              "      <td>0</td>\n",
              "      <td>0</td>\n",
              "      <td>0</td>\n",
              "      <td>0</td>\n",
              "      <td>0</td>\n",
              "      <td>2</td>\n",
              "      <td>0</td>\n",
              "      <td>0</td>\n",
              "      <td>0</td>\n",
              "      <td>1</td>\n",
              "      <td>0</td>\n",
              "      <td>0</td>\n",
              "      <td>0</td>\n",
              "      <td>0</td>\n",
              "      <td>0</td>\n",
              "      <td>0</td>\n",
              "      <td>0</td>\n",
              "      <td>0</td>\n",
              "      <td>0</td>\n",
              "      <td>0</td>\n",
              "      <td>0</td>\n",
              "      <td>0</td>\n",
              "      <td>0</td>\n",
              "      <td>0</td>\n",
              "      <td>0</td>\n",
              "      <td>0</td>\n",
              "      <td>0</td>\n",
              "      <td>0</td>\n",
              "    </tr>\n",
              "    <tr>\n",
              "      <th>shark, cat</th>\n",
              "      <td>0</td>\n",
              "      <td>0</td>\n",
              "      <td>0</td>\n",
              "      <td>0</td>\n",
              "      <td>0</td>\n",
              "      <td>0</td>\n",
              "      <td>1</td>\n",
              "      <td>0</td>\n",
              "      <td>0</td>\n",
              "      <td>0</td>\n",
              "      <td>0</td>\n",
              "      <td>0</td>\n",
              "      <td>0</td>\n",
              "      <td>0</td>\n",
              "      <td>0</td>\n",
              "      <td>0</td>\n",
              "      <td>0</td>\n",
              "      <td>0</td>\n",
              "      <td>0</td>\n",
              "      <td>0</td>\n",
              "      <td>0</td>\n",
              "      <td>0</td>\n",
              "      <td>0</td>\n",
              "      <td>0</td>\n",
              "      <td>0</td>\n",
              "      <td>0</td>\n",
              "      <td>0</td>\n",
              "      <td>0</td>\n",
              "      <td>0</td>\n",
              "    </tr>\n",
              "    <tr>\n",
              "      <th>shark, wolf</th>\n",
              "      <td>0</td>\n",
              "      <td>0</td>\n",
              "      <td>0</td>\n",
              "      <td>0</td>\n",
              "      <td>0</td>\n",
              "      <td>0</td>\n",
              "      <td>0</td>\n",
              "      <td>0</td>\n",
              "      <td>0</td>\n",
              "      <td>0</td>\n",
              "      <td>0</td>\n",
              "      <td>0</td>\n",
              "      <td>0</td>\n",
              "      <td>1</td>\n",
              "      <td>0</td>\n",
              "      <td>0</td>\n",
              "      <td>0</td>\n",
              "      <td>0</td>\n",
              "      <td>0</td>\n",
              "      <td>0</td>\n",
              "      <td>0</td>\n",
              "      <td>0</td>\n",
              "      <td>0</td>\n",
              "      <td>0</td>\n",
              "      <td>0</td>\n",
              "      <td>0</td>\n",
              "      <td>0</td>\n",
              "      <td>0</td>\n",
              "      <td>0</td>\n",
              "    </tr>\n",
              "  </tbody>\n",
              "</table>\n",
              "</div>"
            ],
            "text/plain": [
              "sdr_id       4b339f9567d060bcea4f5136b9f5949e  ...  b1b3ec93fc27a19fdb1c1b1fc997776a\n",
              "cat                                        52  ...                                 0\n",
              "eagle                                       9  ...                                 0\n",
              "wolf                                       42  ...                                 0\n",
              "shark                                       8  ...                                 0\n",
              "cat, wolf                                   1  ...                                 1\n",
              "eagle, wolf                                 0  ...                                 0\n",
              "eagle, cat                                  0  ...                                 0\n",
              "shark, cat                                  0  ...                                 0\n",
              "shark, wolf                                 0  ...                                 0\n",
              "\n",
              "[9 rows x 29 columns]"
            ]
          },
          "metadata": {
            "tags": []
          },
          "execution_count": 55
        }
      ]
    },
    {
      "cell_type": "code",
      "metadata": {
        "id": "obuSFyIrto1W",
        "colab_type": "code",
        "outputId": "3d979180-a408-4652-cb02-a1045433753c",
        "colab": {
          "base_uri": "https://localhost:8080/",
          "height": 721
        }
      },
      "source": [
        "plt.figure(figsize=(20,8))\n",
        "sns.heatmap(lbp_sdr, annot=True, fmt='g', cmap=\"RdBu_r\").set_title('SDR e perfil de comportamento do lead - seller')"
      ],
      "execution_count": 0,
      "outputs": [
        {
          "output_type": "execute_result",
          "data": {
            "text/plain": [
              "Text(0.5, 1, 'SDR e perfil de comportamento do lead - seller')"
            ]
          },
          "metadata": {
            "tags": []
          },
          "execution_count": 56
        },
        {
          "output_type": "display_data",
          "data": {
            "image/png": "[encoded data removed]",
            "text/plain": [
              "<Figure size 1440x576 with 2 Axes>"
            ]
          },
          "metadata": {
            "tags": []
          }
        }
      ]
    },
    {
      "cell_type": "code",
      "metadata": {
        "id": "uRkvkghMzad2",
        "colab_type": "code",
        "outputId": "109f1951-c363-4b97-91d0-d173a6020164",
        "colab": {
          "base_uri": "https://localhost:8080/",
          "height": 433
        }
      },
      "source": [
        "\n",
        "# Tabela de SRS\n",
        "sr = mql_cd['sr_id'].value_counts().index\n",
        "lbp = mql_cd['lead_behaviour_profile'].value_counts().index\n",
        "\n",
        "lbp_sr = pd.pivot_table(mql_cd,\n",
        "                             index='lead_behaviour_profile',\n",
        "                             columns='sr_id',\n",
        "                             values='seller_id',\n",
        "                             aggfunc='count',\n",
        "                             fill_value=0)\n",
        "\n",
        "lbp_sr = lbp_sr.reindex(lbp)[sr]\n",
        "lbp_sr"
      ],
      "execution_count": 0,
      "outputs": [
        {
          "output_type": "execute_result",
          "data": {
            "text/html": [
              "<div>\n",
              "<style scoped>\n",
              "    .dataframe tbody tr th:only-of-type {\n",
              "        vertical-align: middle;\n",
              "    }\n",
              "\n",
              "    .dataframe tbody tr th {\n",
              "        vertical-align: top;\n",
              "    }\n",
              "\n",
              "    .dataframe thead th {\n",
              "        text-align: right;\n",
              "    }\n",
              "</style>\n",
              "<table border=\"1\" class=\"dataframe\">\n",
              "  <thead>\n",
              "    <tr style=\"text-align: right;\">\n",
              "      <th>sr_id</th>\n",
              "      <th>4ef15afb4b2723d8f3d81e51ec7afefe</th>\n",
              "      <th>85fc447d336637ba1df43e793199fbc8</th>\n",
              "      <th>6565aa9ce3178a5caf6171827af3a9ba</th>\n",
              "      <th>d3d1e91a157ea7f90548eef82f1955e3</th>\n",
              "      <th>de63de0d10a6012430098db33c679b0b</th>\n",
              "      <th>2695de1affa7750089c0455f8ce27021</th>\n",
              "      <th>495d4e95a8cf8bbf8b432b612a2aa328</th>\n",
              "      <th>fbf4aef3f6915dc0c3c97d6812522f6a</th>\n",
              "      <th>c638112b43f1d1b86dcabb0da720c901</th>\n",
              "      <th>068066e24f0c643eb1d089c7dd20cd73</th>\n",
              "      <th>060c0a26f19f4d66b42e0d8796688490</th>\n",
              "      <th>9e4d1098a3b0f5da39b0bc48f9876645</th>\n",
              "      <th>a8387c01a09e99ce014107505b92388c</th>\n",
              "      <th>9ae085775a198122c5586fa830ff7f2b</th>\n",
              "      <th>56bf83c4bb35763a51c2baab501b4c67</th>\n",
              "      <th>34d40cdaf94010a1d05b0d6212f9e909</th>\n",
              "      <th>4b339f9567d060bcea4f5136b9f5949e</th>\n",
              "      <th>9749123c950bf8363ace42cb1c2d0815</th>\n",
              "      <th>9d12ef1a7eca3ec58c545c678af7869c</th>\n",
              "      <th>6aa3b86a83d784b05f0e37e26b20860d</th>\n",
              "      <th>0a0fb2b07d841f84fb6714e35c723075</th>\n",
              "      <th>b90f87164b5f8c2cfa5c8572834dbe3f</th>\n",
              "    </tr>\n",
              "  </thead>\n",
              "  <tbody>\n",
              "    <tr>\n",
              "      <th>cat</th>\n",
              "      <td>58</td>\n",
              "      <td>41</td>\n",
              "      <td>31</td>\n",
              "      <td>28</td>\n",
              "      <td>37</td>\n",
              "      <td>34</td>\n",
              "      <td>30</td>\n",
              "      <td>30</td>\n",
              "      <td>17</td>\n",
              "      <td>11</td>\n",
              "      <td>15</td>\n",
              "      <td>16</td>\n",
              "      <td>14</td>\n",
              "      <td>12</td>\n",
              "      <td>17</td>\n",
              "      <td>3</td>\n",
              "      <td>7</td>\n",
              "      <td>2</td>\n",
              "      <td>3</td>\n",
              "      <td>0</td>\n",
              "      <td>1</td>\n",
              "      <td>0</td>\n",
              "    </tr>\n",
              "    <tr>\n",
              "      <th>eagle</th>\n",
              "      <td>23</td>\n",
              "      <td>7</td>\n",
              "      <td>13</td>\n",
              "      <td>12</td>\n",
              "      <td>7</td>\n",
              "      <td>9</td>\n",
              "      <td>6</td>\n",
              "      <td>9</td>\n",
              "      <td>5</td>\n",
              "      <td>7</td>\n",
              "      <td>2</td>\n",
              "      <td>6</td>\n",
              "      <td>6</td>\n",
              "      <td>4</td>\n",
              "      <td>2</td>\n",
              "      <td>4</td>\n",
              "      <td>0</td>\n",
              "      <td>0</td>\n",
              "      <td>0</td>\n",
              "      <td>0</td>\n",
              "      <td>0</td>\n",
              "      <td>1</td>\n",
              "    </tr>\n",
              "    <tr>\n",
              "      <th>wolf</th>\n",
              "      <td>12</td>\n",
              "      <td>11</td>\n",
              "      <td>11</td>\n",
              "      <td>11</td>\n",
              "      <td>5</td>\n",
              "      <td>6</td>\n",
              "      <td>7</td>\n",
              "      <td>2</td>\n",
              "      <td>3</td>\n",
              "      <td>4</td>\n",
              "      <td>6</td>\n",
              "      <td>0</td>\n",
              "      <td>3</td>\n",
              "      <td>5</td>\n",
              "      <td>2</td>\n",
              "      <td>0</td>\n",
              "      <td>2</td>\n",
              "      <td>4</td>\n",
              "      <td>1</td>\n",
              "      <td>0</td>\n",
              "      <td>0</td>\n",
              "      <td>0</td>\n",
              "    </tr>\n",
              "    <tr>\n",
              "      <th>shark</th>\n",
              "      <td>0</td>\n",
              "      <td>4</td>\n",
              "      <td>0</td>\n",
              "      <td>2</td>\n",
              "      <td>4</td>\n",
              "      <td>2</td>\n",
              "      <td>2</td>\n",
              "      <td>2</td>\n",
              "      <td>0</td>\n",
              "      <td>1</td>\n",
              "      <td>1</td>\n",
              "      <td>2</td>\n",
              "      <td>0</td>\n",
              "      <td>1</td>\n",
              "      <td>2</td>\n",
              "      <td>0</td>\n",
              "      <td>0</td>\n",
              "      <td>1</td>\n",
              "      <td>0</td>\n",
              "      <td>0</td>\n",
              "      <td>0</td>\n",
              "      <td>0</td>\n",
              "    </tr>\n",
              "    <tr>\n",
              "      <th>cat, wolf</th>\n",
              "      <td>2</td>\n",
              "      <td>0</td>\n",
              "      <td>0</td>\n",
              "      <td>0</td>\n",
              "      <td>0</td>\n",
              "      <td>1</td>\n",
              "      <td>0</td>\n",
              "      <td>0</td>\n",
              "      <td>0</td>\n",
              "      <td>1</td>\n",
              "      <td>0</td>\n",
              "      <td>0</td>\n",
              "      <td>0</td>\n",
              "      <td>0</td>\n",
              "      <td>0</td>\n",
              "      <td>2</td>\n",
              "      <td>0</td>\n",
              "      <td>0</td>\n",
              "      <td>1</td>\n",
              "      <td>1</td>\n",
              "      <td>0</td>\n",
              "      <td>0</td>\n",
              "    </tr>\n",
              "    <tr>\n",
              "      <th>eagle, wolf</th>\n",
              "      <td>0</td>\n",
              "      <td>0</td>\n",
              "      <td>0</td>\n",
              "      <td>1</td>\n",
              "      <td>0</td>\n",
              "      <td>0</td>\n",
              "      <td>0</td>\n",
              "      <td>0</td>\n",
              "      <td>0</td>\n",
              "      <td>0</td>\n",
              "      <td>0</td>\n",
              "      <td>0</td>\n",
              "      <td>0</td>\n",
              "      <td>1</td>\n",
              "      <td>0</td>\n",
              "      <td>1</td>\n",
              "      <td>0</td>\n",
              "      <td>0</td>\n",
              "      <td>0</td>\n",
              "      <td>0</td>\n",
              "      <td>0</td>\n",
              "      <td>0</td>\n",
              "    </tr>\n",
              "    <tr>\n",
              "      <th>eagle, cat</th>\n",
              "      <td>0</td>\n",
              "      <td>0</td>\n",
              "      <td>0</td>\n",
              "      <td>0</td>\n",
              "      <td>0</td>\n",
              "      <td>0</td>\n",
              "      <td>1</td>\n",
              "      <td>0</td>\n",
              "      <td>0</td>\n",
              "      <td>0</td>\n",
              "      <td>0</td>\n",
              "      <td>0</td>\n",
              "      <td>1</td>\n",
              "      <td>0</td>\n",
              "      <td>0</td>\n",
              "      <td>0</td>\n",
              "      <td>0</td>\n",
              "      <td>0</td>\n",
              "      <td>1</td>\n",
              "      <td>0</td>\n",
              "      <td>0</td>\n",
              "      <td>0</td>\n",
              "    </tr>\n",
              "    <tr>\n",
              "      <th>shark, cat</th>\n",
              "      <td>0</td>\n",
              "      <td>0</td>\n",
              "      <td>0</td>\n",
              "      <td>0</td>\n",
              "      <td>0</td>\n",
              "      <td>1</td>\n",
              "      <td>0</td>\n",
              "      <td>0</td>\n",
              "      <td>0</td>\n",
              "      <td>0</td>\n",
              "      <td>0</td>\n",
              "      <td>0</td>\n",
              "      <td>0</td>\n",
              "      <td>0</td>\n",
              "      <td>0</td>\n",
              "      <td>0</td>\n",
              "      <td>0</td>\n",
              "      <td>0</td>\n",
              "      <td>0</td>\n",
              "      <td>0</td>\n",
              "      <td>0</td>\n",
              "      <td>0</td>\n",
              "    </tr>\n",
              "    <tr>\n",
              "      <th>shark, wolf</th>\n",
              "      <td>0</td>\n",
              "      <td>0</td>\n",
              "      <td>0</td>\n",
              "      <td>0</td>\n",
              "      <td>0</td>\n",
              "      <td>0</td>\n",
              "      <td>0</td>\n",
              "      <td>0</td>\n",
              "      <td>0</td>\n",
              "      <td>1</td>\n",
              "      <td>0</td>\n",
              "      <td>0</td>\n",
              "      <td>0</td>\n",
              "      <td>0</td>\n",
              "      <td>0</td>\n",
              "      <td>0</td>\n",
              "      <td>0</td>\n",
              "      <td>0</td>\n",
              "      <td>0</td>\n",
              "      <td>0</td>\n",
              "      <td>0</td>\n",
              "      <td>0</td>\n",
              "    </tr>\n",
              "  </tbody>\n",
              "</table>\n",
              "</div>"
            ],
            "text/plain": [
              "sr_id        4ef15afb4b2723d8f3d81e51ec7afefe  ...  b90f87164b5f8c2cfa5c8572834dbe3f\n",
              "cat                                        58  ...                                 0\n",
              "eagle                                      23  ...                                 1\n",
              "wolf                                       12  ...                                 0\n",
              "shark                                       0  ...                                 0\n",
              "cat, wolf                                   2  ...                                 0\n",
              "eagle, wolf                                 0  ...                                 0\n",
              "eagle, cat                                  0  ...                                 0\n",
              "shark, cat                                  0  ...                                 0\n",
              "shark, wolf                                 0  ...                                 0\n",
              "\n",
              "[9 rows x 22 columns]"
            ]
          },
          "metadata": {
            "tags": []
          },
          "execution_count": 59
        }
      ]
    },
    {
      "cell_type": "code",
      "metadata": {
        "id": "L8bNb_Y30SFp",
        "colab_type": "code",
        "outputId": "ef61ada8-6247-496d-eb6a-69c8d535e45c",
        "colab": {
          "base_uri": "https://localhost:8080/",
          "height": 721
        }
      },
      "source": [
        "plt.figure(figsize=(20,8))\n",
        "sns.heatmap(lbp_sr, annot=True, fmt='g', cmap=\"RdBu_r\").set_title('SRs e perfil de comportamento de leads - sellers')"
      ],
      "execution_count": 0,
      "outputs": [
        {
          "output_type": "execute_result",
          "data": {
            "text/plain": [
              "Text(0.5, 1, 'SRs e perfil de comportamento de leads - sellers')"
            ]
          },
          "metadata": {
            "tags": []
          },
          "execution_count": 62
        },
        {
          "output_type": "display_data",
          "data": {
            "image/png": "[encoded data removed]",
            "text/plain": [
              "<Figure size 1440x576 with 2 Axes>"
            ]
          },
          "metadata": {
            "tags": []
          }
        }
      ]
    },
    {
      "cell_type": "code",
      "metadata": {
        "id": "AKjvQJgb1Mzs",
        "colab_type": "code",
        "outputId": "b86e174f-899c-47d4-90dd-a3ac1da6a9e8",
        "colab": {
          "base_uri": "https://localhost:8080/",
          "height": 408
        }
      },
      "source": [
        "mql_cd['sr_id'].value_counts()"
      ],
      "execution_count": 0,
      "outputs": [
        {
          "output_type": "execute_result",
          "data": {
            "text/plain": [
              "4ef15afb4b2723d8f3d81e51ec7afefe    95\n",
              "85fc447d336637ba1df43e793199fbc8    63\n",
              "6565aa9ce3178a5caf6171827af3a9ba    55\n",
              "d3d1e91a157ea7f90548eef82f1955e3    54\n",
              "de63de0d10a6012430098db33c679b0b    53\n",
              "2695de1affa7750089c0455f8ce27021    53\n",
              "495d4e95a8cf8bbf8b432b612a2aa328    46\n",
              "fbf4aef3f6915dc0c3c97d6812522f6a    43\n",
              "c638112b43f1d1b86dcabb0da720c901    25\n",
              "068066e24f0c643eb1d089c7dd20cd73    25\n",
              "060c0a26f19f4d66b42e0d8796688490    24\n",
              "9e4d1098a3b0f5da39b0bc48f9876645    24\n",
              "a8387c01a09e99ce014107505b92388c    24\n",
              "9ae085775a198122c5586fa830ff7f2b    23\n",
              "56bf83c4bb35763a51c2baab501b4c67    23\n",
              "34d40cdaf94010a1d05b0d6212f9e909    10\n",
              "4b339f9567d060bcea4f5136b9f5949e     9\n",
              "9749123c950bf8363ace42cb1c2d0815     7\n",
              "9d12ef1a7eca3ec58c545c678af7869c     6\n",
              "6aa3b86a83d784b05f0e37e26b20860d     1\n",
              "0a0fb2b07d841f84fb6714e35c723075     1\n",
              "b90f87164b5f8c2cfa5c8572834dbe3f     1\n",
              "Name: sr_id, dtype: int64"
            ]
          },
          "metadata": {
            "tags": []
          },
          "execution_count": 61
        }
      ]
    }
  ]
}